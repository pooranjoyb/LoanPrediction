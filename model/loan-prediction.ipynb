{
 "cells": [
  {
   "attachments": {},
   "cell_type": "markdown",
   "id": "10c35fce",
   "metadata": {
    "papermill": {
     "duration": 0.017182,
     "end_time": "2023-06-22T12:58:26.676534",
     "exception": false,
     "start_time": "2023-06-22T12:58:26.659352",
     "status": "completed"
    },
    "tags": []
   },
   "source": [
    "# Loan Prediction using ML Algorithms\n",
    "\n",
    "In today's fast-paced financial landscape, loan prediction plays a pivotal role in assessing creditworthiness and mitigating risk for lending institutions. The ability to accurately predict whether a loan applicant will default or repay their loan is crucial for ensuring sustainable lending practices and maximizing profitability. With the advancements in technology and the ever-increasing availability of data, machine learning (ML) models have emerged as powerful tools for loan prediction, offering improved accuracy and efficiency compared to traditional statistical approaches."
   ]
  },
  {
   "attachments": {},
   "cell_type": "markdown",
   "id": "28bd1cbe",
   "metadata": {
    "papermill": {
     "duration": 0.016247,
     "end_time": "2023-06-22T12:58:26.709639",
     "exception": false,
     "start_time": "2023-06-22T12:58:26.693392",
     "status": "completed"
    },
    "tags": []
   },
   "source": [
    "## REPORT STRUCTURE\n",
    "\n",
    "This report aims to provide a comprehensive analysis of various ML models for loan prediction, with the ultimate goal of selecting the most suitable model for production deployment. By examining different ML algorithms and evaluating their performance metrics, this study aims to assist financial institutions in making informed decisions when implementing loan prediction systems.\n",
    "\n",
    "- **We will start with the Exploratory Data Analysis**\n",
    "- **Then we'll look into Data Cleaning (if necessary)**\n",
    "- **Finally we'll try our various ML models and try to fit our data accordingly**\n",
    "- **Choose the Best Model for the production**\n"
   ]
  },
  {
   "attachments": {},
   "cell_type": "markdown",
   "id": "840864eb",
   "metadata": {
    "papermill": {
     "duration": 0.015412,
     "end_time": "2023-06-22T12:58:26.740870",
     "exception": false,
     "start_time": "2023-06-22T12:58:26.725458",
     "status": "completed"
    },
    "tags": []
   },
   "source": [
    "## Aim:\n",
    "***The aim of this project is to develop an accurate and reliable loan prediction model using machine learning techniques. \n",
    "The project seeks to identify the optimal set of hyperparameters that will yield the highest accuracy in predicting loan outcomes.***"
   ]
  },
  {
   "cell_type": "code",
   "execution_count": 1,
   "id": "8dc6752f",
   "metadata": {
    "execution": {
     "iopub.execute_input": "2023-06-22T12:58:26.773900Z",
     "iopub.status.busy": "2023-06-22T12:58:26.773468Z",
     "iopub.status.idle": "2023-06-22T12:58:28.269087Z",
     "shell.execute_reply": "2023-06-22T12:58:28.267932Z"
    },
    "papermill": {
     "duration": 1.515827,
     "end_time": "2023-06-22T12:58:28.272415",
     "exception": false,
     "start_time": "2023-06-22T12:58:26.756588",
     "status": "completed"
    },
    "tags": []
   },
   "outputs": [],
   "source": [
    "# Importing Necessary Libraries and Tools for the Project\n",
    "\n",
    "import numpy as np\n",
    "import pandas as pd\n",
    "import seaborn as sns\n",
    "import matplotlib.pyplot as plt\n",
    "from sklearn.preprocessing import LabelEncoder\n",
    "from sklearn.model_selection import train_test_split\n",
    "from sklearn.metrics import f1_score, accuracy_score, classification_report, confusion_matrix\n"
   ]
  },
  {
   "cell_type": "code",
   "execution_count": 2,
   "id": "0610a78a",
   "metadata": {
    "execution": {
     "iopub.execute_input": "2023-06-22T12:58:28.308700Z",
     "iopub.status.busy": "2023-06-22T12:58:28.307663Z",
     "iopub.status.idle": "2023-06-22T12:58:28.312685Z",
     "shell.execute_reply": "2023-06-22T12:58:28.311812Z"
    },
    "papermill": {
     "duration": 0.02511,
     "end_time": "2023-06-22T12:58:28.314857",
     "exception": false,
     "start_time": "2023-06-22T12:58:28.289747",
     "status": "completed"
    },
    "tags": []
   },
   "outputs": [],
   "source": [
    "# Supressing Warnings \n",
    "\n",
    "import warnings\n",
    "warnings.filterwarnings('ignore')"
   ]
  },
  {
   "attachments": {},
   "cell_type": "markdown",
   "id": "2004d39a",
   "metadata": {
    "papermill": {
     "duration": 0.015721,
     "end_time": "2023-06-22T12:58:28.347106",
     "exception": false,
     "start_time": "2023-06-22T12:58:28.331385",
     "status": "completed"
    },
    "tags": []
   },
   "source": [
    "# Exploratory Data Analysis (EDA)\n",
    "Exploratory Data Analysis (EDA) plays a crucial role in any data-driven project, including loan prediction using ML models. EDA involves investigating and understanding the characteristics, patterns, and relationships within the dataset before applying any ML algorithms. "
   ]
  },
  {
   "cell_type": "code",
   "execution_count": 3,
   "id": "d779c3f5",
   "metadata": {
    "execution": {
     "iopub.execute_input": "2023-06-22T12:58:28.384942Z",
     "iopub.status.busy": "2023-06-22T12:58:28.383053Z",
     "iopub.status.idle": "2023-06-22T12:58:29.099087Z",
     "shell.execute_reply": "2023-06-22T12:58:29.098054Z"
    },
    "papermill": {
     "duration": 0.737353,
     "end_time": "2023-06-22T12:58:29.101928",
     "exception": false,
     "start_time": "2023-06-22T12:58:28.364575",
     "status": "completed"
    },
    "tags": []
   },
   "outputs": [
    {
     "data": {
      "text/html": [
       "<div>\n",
       "<style scoped>\n",
       "    .dataframe tbody tr th:only-of-type {\n",
       "        vertical-align: middle;\n",
       "    }\n",
       "\n",
       "    .dataframe tbody tr th {\n",
       "        vertical-align: top;\n",
       "    }\n",
       "\n",
       "    .dataframe thead th {\n",
       "        text-align: right;\n",
       "    }\n",
       "</style>\n",
       "<table border=\"1\" class=\"dataframe\">\n",
       "  <thead>\n",
       "    <tr style=\"text-align: right;\">\n",
       "      <th></th>\n",
       "      <th>Id</th>\n",
       "      <th>Income</th>\n",
       "      <th>Age</th>\n",
       "      <th>Experience</th>\n",
       "      <th>Married/Single</th>\n",
       "      <th>House_Ownership</th>\n",
       "      <th>Car_Ownership</th>\n",
       "      <th>Profession</th>\n",
       "      <th>CITY</th>\n",
       "      <th>STATE</th>\n",
       "      <th>CURRENT_JOB_YRS</th>\n",
       "      <th>CURRENT_HOUSE_YRS</th>\n",
       "      <th>Risk_Flag</th>\n",
       "    </tr>\n",
       "  </thead>\n",
       "  <tbody>\n",
       "    <tr>\n",
       "      <th>0</th>\n",
       "      <td>1</td>\n",
       "      <td>1303834</td>\n",
       "      <td>23</td>\n",
       "      <td>3</td>\n",
       "      <td>single</td>\n",
       "      <td>rented</td>\n",
       "      <td>no</td>\n",
       "      <td>Mechanical_engineer</td>\n",
       "      <td>Rewa</td>\n",
       "      <td>Madhya_Pradesh</td>\n",
       "      <td>3</td>\n",
       "      <td>13</td>\n",
       "      <td>0</td>\n",
       "    </tr>\n",
       "    <tr>\n",
       "      <th>1</th>\n",
       "      <td>2</td>\n",
       "      <td>7574516</td>\n",
       "      <td>40</td>\n",
       "      <td>10</td>\n",
       "      <td>single</td>\n",
       "      <td>rented</td>\n",
       "      <td>no</td>\n",
       "      <td>Software_Developer</td>\n",
       "      <td>Parbhani</td>\n",
       "      <td>Maharashtra</td>\n",
       "      <td>9</td>\n",
       "      <td>13</td>\n",
       "      <td>0</td>\n",
       "    </tr>\n",
       "    <tr>\n",
       "      <th>2</th>\n",
       "      <td>3</td>\n",
       "      <td>3991815</td>\n",
       "      <td>66</td>\n",
       "      <td>4</td>\n",
       "      <td>married</td>\n",
       "      <td>rented</td>\n",
       "      <td>no</td>\n",
       "      <td>Technical_writer</td>\n",
       "      <td>Alappuzha</td>\n",
       "      <td>Kerala</td>\n",
       "      <td>4</td>\n",
       "      <td>10</td>\n",
       "      <td>0</td>\n",
       "    </tr>\n",
       "    <tr>\n",
       "      <th>3</th>\n",
       "      <td>4</td>\n",
       "      <td>6256451</td>\n",
       "      <td>41</td>\n",
       "      <td>2</td>\n",
       "      <td>single</td>\n",
       "      <td>rented</td>\n",
       "      <td>yes</td>\n",
       "      <td>Software_Developer</td>\n",
       "      <td>Bhubaneswar</td>\n",
       "      <td>Odisha</td>\n",
       "      <td>2</td>\n",
       "      <td>12</td>\n",
       "      <td>1</td>\n",
       "    </tr>\n",
       "    <tr>\n",
       "      <th>4</th>\n",
       "      <td>5</td>\n",
       "      <td>5768871</td>\n",
       "      <td>47</td>\n",
       "      <td>11</td>\n",
       "      <td>single</td>\n",
       "      <td>rented</td>\n",
       "      <td>no</td>\n",
       "      <td>Civil_servant</td>\n",
       "      <td>Tiruchirappalli[10]</td>\n",
       "      <td>Tamil_Nadu</td>\n",
       "      <td>3</td>\n",
       "      <td>14</td>\n",
       "      <td>1</td>\n",
       "    </tr>\n",
       "  </tbody>\n",
       "</table>\n",
       "</div>"
      ],
      "text/plain": [
       "   Id   Income  Age  Experience Married/Single House_Ownership Car_Ownership  \\\n",
       "0   1  1303834   23           3         single          rented            no   \n",
       "1   2  7574516   40          10         single          rented            no   \n",
       "2   3  3991815   66           4        married          rented            no   \n",
       "3   4  6256451   41           2         single          rented           yes   \n",
       "4   5  5768871   47          11         single          rented            no   \n",
       "\n",
       "            Profession                 CITY           STATE  CURRENT_JOB_YRS  \\\n",
       "0  Mechanical_engineer                 Rewa  Madhya_Pradesh                3   \n",
       "1   Software_Developer             Parbhani     Maharashtra                9   \n",
       "2     Technical_writer            Alappuzha          Kerala                4   \n",
       "3   Software_Developer          Bhubaneswar          Odisha                2   \n",
       "4        Civil_servant  Tiruchirappalli[10]      Tamil_Nadu                3   \n",
       "\n",
       "   CURRENT_HOUSE_YRS  Risk_Flag  \n",
       "0                 13          0  \n",
       "1                 13          0  \n",
       "2                 10          0  \n",
       "3                 12          1  \n",
       "4                 14          1  "
      ]
     },
     "execution_count": 3,
     "metadata": {},
     "output_type": "execute_result"
    }
   ],
   "source": [
    "df = pd.read_csv(\"/kaggle/input/loan-prediction-based-on-customer-behavior/Training Data.csv\", sep=',')\n",
    "df.head()"
   ]
  },
  {
   "attachments": {},
   "cell_type": "markdown",
   "id": "ccd3b5de",
   "metadata": {
    "papermill": {
     "duration": 0.016553,
     "end_time": "2023-06-22T12:58:29.136680",
     "exception": false,
     "start_time": "2023-06-22T12:58:29.120127",
     "status": "completed"
    },
    "tags": []
   },
   "source": [
    "#### We should know where we have categorical and numerical data in our dataset\n",
    "#### ***We can see a glance of our data using the df.info()***"
   ]
  },
  {
   "cell_type": "code",
   "execution_count": 4,
   "id": "cd6f4a50",
   "metadata": {
    "execution": {
     "iopub.execute_input": "2023-06-22T12:58:29.172485Z",
     "iopub.status.busy": "2023-06-22T12:58:29.170749Z",
     "iopub.status.idle": "2023-06-22T12:58:29.626059Z",
     "shell.execute_reply": "2023-06-22T12:58:29.625014Z"
    },
    "papermill": {
     "duration": 0.475755,
     "end_time": "2023-06-22T12:58:29.628694",
     "exception": false,
     "start_time": "2023-06-22T12:58:29.152939",
     "status": "completed"
    },
    "tags": []
   },
   "outputs": [
    {
     "name": "stdout",
     "output_type": "stream",
     "text": [
      "<class 'pandas.core.frame.DataFrame'>\n",
      "RangeIndex: 252000 entries, 0 to 251999\n",
      "Data columns (total 12 columns):\n",
      " #   Column             Non-Null Count   Dtype \n",
      "---  ------             --------------   ----- \n",
      " 0   Income             252000 non-null  int64 \n",
      " 1   Age                252000 non-null  int64 \n",
      " 2   Experience         252000 non-null  int64 \n",
      " 3   Married/Single     252000 non-null  object\n",
      " 4   House_Ownership    252000 non-null  object\n",
      " 5   Car_Ownership      252000 non-null  object\n",
      " 6   Profession         252000 non-null  object\n",
      " 7   CITY               252000 non-null  object\n",
      " 8   STATE              252000 non-null  object\n",
      " 9   CURRENT_JOB_YRS    252000 non-null  int64 \n",
      " 10  CURRENT_HOUSE_YRS  252000 non-null  int64 \n",
      " 11  Risk_Flag          252000 non-null  int64 \n",
      "dtypes: int64(6), object(6)\n",
      "memory usage: 23.1+ MB\n"
     ]
    }
   ],
   "source": [
    "df = df.drop('Id', axis=1)\n",
    "df.info()"
   ]
  },
  {
   "attachments": {},
   "cell_type": "markdown",
   "id": "d914f02c",
   "metadata": {
    "papermill": {
     "duration": 0.016231,
     "end_time": "2023-06-22T12:58:29.661650",
     "exception": false,
     "start_time": "2023-06-22T12:58:29.645419",
     "status": "completed"
    },
    "tags": []
   },
   "source": [
    "#### ***Hence, we can conclude that we have a mixture of categorical as well as numerical data in our dataset. These data can help us to analyze the dataset and help us gain several insights.***"
   ]
  },
  {
   "attachments": {},
   "cell_type": "markdown",
   "id": "c2408edf",
   "metadata": {
    "papermill": {
     "duration": 0.016832,
     "end_time": "2023-06-22T12:58:29.695444",
     "exception": false,
     "start_time": "2023-06-22T12:58:29.678612",
     "status": "completed"
    },
    "tags": []
   },
   "source": [
    "#### Let us check what is the distribution of Age of the people in our dataset"
   ]
  },
  {
   "cell_type": "code",
   "execution_count": 5,
   "id": "bde40442",
   "metadata": {
    "execution": {
     "iopub.execute_input": "2023-06-22T12:58:29.731613Z",
     "iopub.status.busy": "2023-06-22T12:58:29.731243Z",
     "iopub.status.idle": "2023-06-22T12:58:30.484020Z",
     "shell.execute_reply": "2023-06-22T12:58:30.483073Z"
    },
    "papermill": {
     "duration": 0.773759,
     "end_time": "2023-06-22T12:58:30.486140",
     "exception": false,
     "start_time": "2023-06-22T12:58:29.712381",
     "status": "completed"
    },
    "tags": []
   },
   "outputs": [
    {
     "data": {
      "text/plain": [
       "Text(0.5, 1.0, 'Age Count')"
      ]
     },
     "execution_count": 5,
     "metadata": {},
     "output_type": "execute_result"
    },
    {
     "data": {
      "image/png": "[encoded data removed]",
      "text/plain": [
       "<Figure size 640x480 with 1 Axes>"
      ]
     },
     "metadata": {},
     "output_type": "display_data"
    }
   ],
   "source": [
    "sns.histplot(df.Age)\n",
    "plt.xlabel(\"Age\")\n",
    "plt.title(\"Age Count\")"
   ]
  },
  {
   "attachments": {},
   "cell_type": "markdown",
   "id": "83552180",
   "metadata": {
    "papermill": {
     "duration": 0.017311,
     "end_time": "2023-06-22T12:58:30.521661",
     "exception": false,
     "start_time": "2023-06-22T12:58:30.504350",
     "status": "completed"
    },
    "tags": []
   },
   "source": [
    "#### **From the above Bar Plot we can clearly deduce that we've a overall equally balanced Age distribution in our dataset.**"
   ]
  },
  {
   "attachments": {},
   "cell_type": "markdown",
   "id": "c85b038c",
   "metadata": {
    "papermill": {
     "duration": 0.016696,
     "end_time": "2023-06-22T12:58:30.555424",
     "exception": false,
     "start_time": "2023-06-22T12:58:30.538728",
     "status": "completed"
    },
    "tags": []
   },
   "source": [
    "#### Now let us check how many professions do we have in total"
   ]
  },
  {
   "cell_type": "code",
   "execution_count": 6,
   "id": "c40d527e",
   "metadata": {
    "execution": {
     "iopub.execute_input": "2023-06-22T12:58:30.594470Z",
     "iopub.status.busy": "2023-06-22T12:58:30.592531Z",
     "iopub.status.idle": "2023-06-22T12:58:30.638002Z",
     "shell.execute_reply": "2023-06-22T12:58:30.637133Z"
    },
    "papermill": {
     "duration": 0.06724,
     "end_time": "2023-06-22T12:58:30.640185",
     "exception": false,
     "start_time": "2023-06-22T12:58:30.572945",
     "status": "completed"
    },
    "tags": []
   },
   "outputs": [
    {
     "data": {
      "text/plain": [
       "Physician                     5957\n",
       "Statistician                  5806\n",
       "Web_designer                  5397\n",
       "Psychologist                  5390\n",
       "Computer_hardware_engineer    5372\n",
       "Drafter                       5359\n",
       "Magistrate                    5357\n",
       "Fashion_Designer              5304\n",
       "Air_traffic_controller        5281\n",
       "Comedian                      5259\n",
       "Industrial_Engineer           5250\n",
       "Mechanical_engineer           5217\n",
       "Chemical_engineer             5205\n",
       "Technical_writer              5195\n",
       "Hotel_Manager                 5178\n",
       "Financial_Analyst             5167\n",
       "Graphic_Designer              5166\n",
       "Flight_attendant              5128\n",
       "Biomedical_Engineer           5127\n",
       "Secretary                     5061\n",
       "Software_Developer            5053\n",
       "Petroleum_Engineer            5041\n",
       "Police_officer                5035\n",
       "Computer_operator             4990\n",
       "Politician                    4944\n",
       "Microbiologist                4881\n",
       "Technician                    4864\n",
       "Artist                        4861\n",
       "Lawyer                        4818\n",
       "Consultant                    4808\n",
       "Dentist                       4782\n",
       "Scientist                     4781\n",
       "Surgeon                       4772\n",
       "Aviator                       4758\n",
       "Technology_specialist         4737\n",
       "Design_Engineer               4729\n",
       "Surveyor                      4714\n",
       "Geologist                     4672\n",
       "Analyst                       4668\n",
       "Army_officer                  4661\n",
       "Architect                     4657\n",
       "Chef                          4635\n",
       "Librarian                     4628\n",
       "Civil_engineer                4616\n",
       "Designer                      4598\n",
       "Economist                     4573\n",
       "Firefighter                   4507\n",
       "Chartered_Accountant          4493\n",
       "Civil_servant                 4413\n",
       "Official                      4087\n",
       "Engineer                      4048\n",
       "Name: Profession, dtype: int64"
      ]
     },
     "execution_count": 6,
     "metadata": {},
     "output_type": "execute_result"
    }
   ],
   "source": [
    "df.Profession.value_counts()"
   ]
  },
  {
   "attachments": {},
   "cell_type": "markdown",
   "id": "a43f14cf",
   "metadata": {
    "papermill": {
     "duration": 0.019228,
     "end_time": "2023-06-22T12:58:30.677429",
     "exception": false,
     "start_time": "2023-06-22T12:58:30.658201",
     "status": "completed"
    },
    "tags": []
   },
   "source": [
    "#### **This gives us an idea that we have almost different types of people with different professions equally distributed in the dataset.**"
   ]
  },
  {
   "attachments": {},
   "cell_type": "markdown",
   "id": "bdc0b85a",
   "metadata": {
    "papermill": {
     "duration": 0.019394,
     "end_time": "2023-06-22T12:58:30.716529",
     "exception": false,
     "start_time": "2023-06-22T12:58:30.697135",
     "status": "completed"
    },
    "tags": []
   },
   "source": [
    "### Now let's check the distribution of Marital Status in our dataset"
   ]
  },
  {
   "cell_type": "code",
   "execution_count": 7,
   "id": "6b3fe480",
   "metadata": {
    "execution": {
     "iopub.execute_input": "2023-06-22T12:58:30.756945Z",
     "iopub.status.busy": "2023-06-22T12:58:30.755931Z",
     "iopub.status.idle": "2023-06-22T12:58:31.078144Z",
     "shell.execute_reply": "2023-06-22T12:58:31.077183Z"
    },
    "papermill": {
     "duration": 0.344846,
     "end_time": "2023-06-22T12:58:31.080520",
     "exception": false,
     "start_time": "2023-06-22T12:58:30.735674",
     "status": "completed"
    },
    "tags": []
   },
   "outputs": [
    {
     "data": {
      "text/plain": [
       "Text(0, 0.5, 'Frequency')"
      ]
     },
     "execution_count": 7,
     "metadata": {},
     "output_type": "execute_result"
    },
    {
     "data": {
      "image/png": "[encoded data removed]",
      "text/plain": [
       "<Figure size 640x480 with 1 Axes>"
      ]
     },
     "metadata": {},
     "output_type": "display_data"
    }
   ],
   "source": [
    "MaritalStatus = df['Married/Single'].value_counts()\n",
    "MaritalStatus.plot.bar(color=['orange', 'green'])\n",
    "plt.title(\"Marital Status\")\n",
    "plt.ylabel(\"Frequency\")"
   ]
  },
  {
   "attachments": {},
   "cell_type": "markdown",
   "id": "ad871c4d",
   "metadata": {
    "papermill": {
     "duration": 0.017934,
     "end_time": "2023-06-22T12:58:31.116677",
     "exception": false,
     "start_time": "2023-06-22T12:58:31.098743",
     "status": "completed"
    },
    "tags": []
   },
   "source": [
    "#### **This shows that we have maximum of single Individuals than Married couples in our dataset**\n",
    "\n",
    "### Also from the insights from the Marital Status, let's check what's the distribution of their **House & Car Ownership** "
   ]
  },
  {
   "cell_type": "code",
   "execution_count": 8,
   "id": "5b399028",
   "metadata": {
    "execution": {
     "iopub.execute_input": "2023-06-22T12:58:31.154840Z",
     "iopub.status.busy": "2023-06-22T12:58:31.153903Z",
     "iopub.status.idle": "2023-06-22T12:58:33.336652Z",
     "shell.execute_reply": "2023-06-22T12:58:33.335611Z"
    },
    "papermill": {
     "duration": 2.204175,
     "end_time": "2023-06-22T12:58:33.339041",
     "exception": false,
     "start_time": "2023-06-22T12:58:31.134866",
     "status": "completed"
    },
    "tags": []
   },
   "outputs": [
    {
     "data": {
      "text/plain": [
       "Text(0.5, 1.0, 'Property Ownership')"
      ]
     },
     "execution_count": 8,
     "metadata": {},
     "output_type": "execute_result"
    },
    {
     "data": {
      "image/png": "[encoded data removed]",
      "text/plain": [
       "<Figure size 600x300 with 2 Axes>"
      ]
     },
     "metadata": {},
     "output_type": "display_data"
    },
    {
     "data": {
      "image/png": "[encoded data removed]",
      "text/plain": [
       "<Figure size 600x300 with 2 Axes>"
      ]
     },
     "metadata": {},
     "output_type": "display_data"
    }
   ],
   "source": [
    "# Property Ownership w.r.t Marital Status\n",
    "\n",
    "plot = sns.FacetGrid(df, col='Married/Single', margin_titles=True)\n",
    "plot.map(plt.hist, 'House_Ownership', color='red')\n",
    "\n",
    "plot = sns.FacetGrid(df, col='Married/Single', margin_titles=True)\n",
    "plot.map(plt.hist, 'Car_Ownership', color='blue')\n",
    "\n",
    "plt.title(\"Property Ownership\")"
   ]
  },
  {
   "attachments": {},
   "cell_type": "markdown",
   "id": "7ad3fbe0",
   "metadata": {
    "papermill": {
     "duration": 0.019855,
     "end_time": "2023-06-22T12:58:33.379571",
     "exception": false,
     "start_time": "2023-06-22T12:58:33.359716",
     "status": "completed"
    },
    "tags": []
   },
   "source": [
    "#### From the above Facet Grid Plot we can get a clear idea that \n",
    "- #### Single Individuals live in Rented_Household with Almost No Car_Ownership, whereas \n",
    "- #### Married Couples prefer living in Rented_Household with a fairly equally distributed Car_Ownership"
   ]
  },
  {
   "attachments": {},
   "cell_type": "markdown",
   "id": "128498f9",
   "metadata": {
    "papermill": {
     "duration": 0.020612,
     "end_time": "2023-06-22T12:58:33.418976",
     "exception": false,
     "start_time": "2023-06-22T12:58:33.398364",
     "status": "completed"
    },
    "tags": []
   },
   "source": [
    "### Moving Forward let's check out the distribution of people from various states in our Dataset"
   ]
  },
  {
   "cell_type": "code",
   "execution_count": 9,
   "id": "16ee4355",
   "metadata": {
    "execution": {
     "iopub.execute_input": "2023-06-22T12:58:33.458012Z",
     "iopub.status.busy": "2023-06-22T12:58:33.457638Z",
     "iopub.status.idle": "2023-06-22T12:58:34.041965Z",
     "shell.execute_reply": "2023-06-22T12:58:34.040905Z"
    },
    "papermill": {
     "duration": 0.606334,
     "end_time": "2023-06-22T12:58:34.044135",
     "exception": false,
     "start_time": "2023-06-22T12:58:33.437801",
     "status": "completed"
    },
    "tags": []
   },
   "outputs": [
    {
     "data": {
      "text/plain": [
       "Text(0, 0.5, 'Frequency')"
      ]
     },
     "execution_count": 9,
     "metadata": {},
     "output_type": "execute_result"
    },
    {
     "data": {
      "image/png": "[encoded data removed]",
      "text/plain": [
       "<Figure size 640x480 with 1 Axes>"
      ]
     },
     "metadata": {},
     "output_type": "display_data"
    }
   ],
   "source": [
    "StateDistribution = df.STATE.value_counts()\n",
    "StateDistribution.plot.bar()\n",
    "plt.xticks(rotation=90)\n",
    "plt.title(\"State Distribution in the Dataset\")\n",
    "plt.ylabel(\"Frequency\")"
   ]
  },
  {
   "attachments": {},
   "cell_type": "markdown",
   "id": "d4b09a4a",
   "metadata": {
    "papermill": {
     "duration": 0.020191,
     "end_time": "2023-06-22T12:58:34.084149",
     "exception": false,
     "start_time": "2023-06-22T12:58:34.063958",
     "status": "completed"
    },
    "tags": []
   },
   "source": [
    "#### Here, we see that maximum population are from Uttar Pradesh followed by Maharashtra & Andhra Pradesh"
   ]
  },
  {
   "attachments": {},
   "cell_type": "markdown",
   "id": "4c71b2bf",
   "metadata": {
    "papermill": {
     "duration": 0.019928,
     "end_time": "2023-06-22T12:58:34.124388",
     "exception": false,
     "start_time": "2023-06-22T12:58:34.104460",
     "status": "completed"
    },
    "tags": []
   },
   "source": [
    "#### Now let's move on forward and Clean our Dataset for further Computations"
   ]
  },
  {
   "attachments": {},
   "cell_type": "markdown",
   "id": "e6b8762a",
   "metadata": {
    "papermill": {
     "duration": 0.019845,
     "end_time": "2023-06-22T12:58:34.164900",
     "exception": false,
     "start_time": "2023-06-22T12:58:34.145055",
     "status": "completed"
    },
    "tags": []
   },
   "source": [
    "# Data Cleaning"
   ]
  },
  {
   "cell_type": "code",
   "execution_count": 10,
   "id": "9328b168",
   "metadata": {
    "execution": {
     "iopub.execute_input": "2023-06-22T12:58:34.208532Z",
     "iopub.status.busy": "2023-06-22T12:58:34.206555Z",
     "iopub.status.idle": "2023-06-22T12:58:34.223425Z",
     "shell.execute_reply": "2023-06-22T12:58:34.222266Z"
    },
    "papermill": {
     "duration": 0.041022,
     "end_time": "2023-06-22T12:58:34.226317",
     "exception": false,
     "start_time": "2023-06-22T12:58:34.185295",
     "status": "completed"
    },
    "tags": []
   },
   "outputs": [
    {
     "data": {
      "text/html": [
       "<div>\n",
       "<style scoped>\n",
       "    .dataframe tbody tr th:only-of-type {\n",
       "        vertical-align: middle;\n",
       "    }\n",
       "\n",
       "    .dataframe tbody tr th {\n",
       "        vertical-align: top;\n",
       "    }\n",
       "\n",
       "    .dataframe thead th {\n",
       "        text-align: right;\n",
       "    }\n",
       "</style>\n",
       "<table border=\"1\" class=\"dataframe\">\n",
       "  <thead>\n",
       "    <tr style=\"text-align: right;\">\n",
       "      <th></th>\n",
       "      <th>Income</th>\n",
       "      <th>Age</th>\n",
       "      <th>Experience</th>\n",
       "      <th>Married/Single</th>\n",
       "      <th>House_Ownership</th>\n",
       "      <th>Car_Ownership</th>\n",
       "      <th>Profession</th>\n",
       "      <th>CITY</th>\n",
       "      <th>STATE</th>\n",
       "      <th>CURRENT_JOB_YRS</th>\n",
       "      <th>CURRENT_HOUSE_YRS</th>\n",
       "      <th>Risk_Flag</th>\n",
       "    </tr>\n",
       "  </thead>\n",
       "  <tbody>\n",
       "    <tr>\n",
       "      <th>0</th>\n",
       "      <td>1303834</td>\n",
       "      <td>23</td>\n",
       "      <td>3</td>\n",
       "      <td>single</td>\n",
       "      <td>rented</td>\n",
       "      <td>no</td>\n",
       "      <td>Mechanical_engineer</td>\n",
       "      <td>Rewa</td>\n",
       "      <td>Madhya_Pradesh</td>\n",
       "      <td>3</td>\n",
       "      <td>13</td>\n",
       "      <td>0</td>\n",
       "    </tr>\n",
       "    <tr>\n",
       "      <th>1</th>\n",
       "      <td>7574516</td>\n",
       "      <td>40</td>\n",
       "      <td>10</td>\n",
       "      <td>single</td>\n",
       "      <td>rented</td>\n",
       "      <td>no</td>\n",
       "      <td>Software_Developer</td>\n",
       "      <td>Parbhani</td>\n",
       "      <td>Maharashtra</td>\n",
       "      <td>9</td>\n",
       "      <td>13</td>\n",
       "      <td>0</td>\n",
       "    </tr>\n",
       "    <tr>\n",
       "      <th>2</th>\n",
       "      <td>3991815</td>\n",
       "      <td>66</td>\n",
       "      <td>4</td>\n",
       "      <td>married</td>\n",
       "      <td>rented</td>\n",
       "      <td>no</td>\n",
       "      <td>Technical_writer</td>\n",
       "      <td>Alappuzha</td>\n",
       "      <td>Kerala</td>\n",
       "      <td>4</td>\n",
       "      <td>10</td>\n",
       "      <td>0</td>\n",
       "    </tr>\n",
       "    <tr>\n",
       "      <th>3</th>\n",
       "      <td>6256451</td>\n",
       "      <td>41</td>\n",
       "      <td>2</td>\n",
       "      <td>single</td>\n",
       "      <td>rented</td>\n",
       "      <td>yes</td>\n",
       "      <td>Software_Developer</td>\n",
       "      <td>Bhubaneswar</td>\n",
       "      <td>Odisha</td>\n",
       "      <td>2</td>\n",
       "      <td>12</td>\n",
       "      <td>1</td>\n",
       "    </tr>\n",
       "    <tr>\n",
       "      <th>4</th>\n",
       "      <td>5768871</td>\n",
       "      <td>47</td>\n",
       "      <td>11</td>\n",
       "      <td>single</td>\n",
       "      <td>rented</td>\n",
       "      <td>no</td>\n",
       "      <td>Civil_servant</td>\n",
       "      <td>Tiruchirappalli[10]</td>\n",
       "      <td>Tamil_Nadu</td>\n",
       "      <td>3</td>\n",
       "      <td>14</td>\n",
       "      <td>1</td>\n",
       "    </tr>\n",
       "  </tbody>\n",
       "</table>\n",
       "</div>"
      ],
      "text/plain": [
       "    Income  Age  Experience Married/Single House_Ownership Car_Ownership  \\\n",
       "0  1303834   23           3         single          rented            no   \n",
       "1  7574516   40          10         single          rented            no   \n",
       "2  3991815   66           4        married          rented            no   \n",
       "3  6256451   41           2         single          rented           yes   \n",
       "4  5768871   47          11         single          rented            no   \n",
       "\n",
       "            Profession                 CITY           STATE  CURRENT_JOB_YRS  \\\n",
       "0  Mechanical_engineer                 Rewa  Madhya_Pradesh                3   \n",
       "1   Software_Developer             Parbhani     Maharashtra                9   \n",
       "2     Technical_writer            Alappuzha          Kerala                4   \n",
       "3   Software_Developer          Bhubaneswar          Odisha                2   \n",
       "4        Civil_servant  Tiruchirappalli[10]      Tamil_Nadu                3   \n",
       "\n",
       "   CURRENT_HOUSE_YRS  Risk_Flag  \n",
       "0                 13          0  \n",
       "1                 13          0  \n",
       "2                 10          0  \n",
       "3                 12          1  \n",
       "4                 14          1  "
      ]
     },
     "execution_count": 10,
     "metadata": {},
     "output_type": "execute_result"
    }
   ],
   "source": [
    "# Having a lok on our dataset\n",
    "\n",
    "df.head()"
   ]
  },
  {
   "attachments": {},
   "cell_type": "markdown",
   "id": "eed9160a",
   "metadata": {
    "papermill": {
     "duration": 0.020139,
     "end_time": "2023-06-22T12:58:34.268656",
     "exception": false,
     "start_time": "2023-06-22T12:58:34.248517",
     "status": "completed"
    },
    "tags": []
   },
   "source": [
    "#### Let's Start this by Handling Missing Values"
   ]
  },
  {
   "cell_type": "code",
   "execution_count": 11,
   "id": "877d4d68",
   "metadata": {
    "execution": {
     "iopub.execute_input": "2023-06-22T12:58:34.311012Z",
     "iopub.status.busy": "2023-06-22T12:58:34.310636Z",
     "iopub.status.idle": "2023-06-22T12:58:34.745161Z",
     "shell.execute_reply": "2023-06-22T12:58:34.744044Z"
    },
    "papermill": {
     "duration": 0.459076,
     "end_time": "2023-06-22T12:58:34.747842",
     "exception": false,
     "start_time": "2023-06-22T12:58:34.288766",
     "status": "completed"
    },
    "tags": []
   },
   "outputs": [
    {
     "data": {
      "text/plain": [
       "Income               0\n",
       "Age                  0\n",
       "Experience           0\n",
       "Married/Single       0\n",
       "House_Ownership      0\n",
       "Car_Ownership        0\n",
       "Profession           0\n",
       "CITY                 0\n",
       "STATE                0\n",
       "CURRENT_JOB_YRS      0\n",
       "CURRENT_HOUSE_YRS    0\n",
       "Risk_Flag            0\n",
       "dtype: int64"
      ]
     },
     "execution_count": 11,
     "metadata": {},
     "output_type": "execute_result"
    }
   ],
   "source": [
    "totalMissingVals = df.isnull().sum().sort_values(ascending=True)\n",
    "totalMissingVals"
   ]
  },
  {
   "attachments": {},
   "cell_type": "markdown",
   "id": "e0f962c7",
   "metadata": {
    "papermill": {
     "duration": 0.020595,
     "end_time": "2023-06-22T12:58:34.789783",
     "exception": false,
     "start_time": "2023-06-22T12:58:34.769188",
     "status": "completed"
    },
    "tags": []
   },
   "source": [
    "#### Voila! We can see that we don't have any missing values."
   ]
  },
  {
   "attachments": {},
   "cell_type": "markdown",
   "id": "4e77a4ac",
   "metadata": {
    "papermill": {
     "duration": 0.020176,
     "end_time": "2023-06-22T12:58:34.830794",
     "exception": false,
     "start_time": "2023-06-22T12:58:34.810618",
     "status": "completed"
    },
    "tags": []
   },
   "source": [
    "### Checking Duplicates"
   ]
  },
  {
   "cell_type": "code",
   "execution_count": 12,
   "id": "2840d97b",
   "metadata": {
    "execution": {
     "iopub.execute_input": "2023-06-22T12:58:34.873984Z",
     "iopub.status.busy": "2023-06-22T12:58:34.873623Z",
     "iopub.status.idle": "2023-06-22T12:58:34.880256Z",
     "shell.execute_reply": "2023-06-22T12:58:34.879395Z"
    },
    "papermill": {
     "duration": 0.030949,
     "end_time": "2023-06-22T12:58:34.882436",
     "exception": false,
     "start_time": "2023-06-22T12:58:34.851487",
     "status": "completed"
    },
    "tags": []
   },
   "outputs": [
    {
     "data": {
      "text/plain": [
       "True"
      ]
     },
     "execution_count": 12,
     "metadata": {},
     "output_type": "execute_result"
    }
   ],
   "source": [
    "df.index.is_unique"
   ]
  },
  {
   "attachments": {},
   "cell_type": "markdown",
   "id": "571286d3",
   "metadata": {
    "papermill": {
     "duration": 0.020489,
     "end_time": "2023-06-22T12:58:34.924373",
     "exception": false,
     "start_time": "2023-06-22T12:58:34.903884",
     "status": "completed"
    },
    "tags": []
   },
   "source": [
    "#### So, our dataset is free from any duplicate values."
   ]
  },
  {
   "attachments": {},
   "cell_type": "markdown",
   "id": "08c69145",
   "metadata": {
    "papermill": {
     "duration": 0.02085,
     "end_time": "2023-06-22T12:58:34.966940",
     "exception": false,
     "start_time": "2023-06-22T12:58:34.946090",
     "status": "completed"
    },
    "tags": []
   },
   "source": [
    "### Handling Outliers\n",
    "#### **Let's check if there exists any possible outliers in Income, as it is the only feature that will have much more importance in our dataset**"
   ]
  },
  {
   "cell_type": "code",
   "execution_count": 13,
   "id": "0ab961b9",
   "metadata": {
    "execution": {
     "iopub.execute_input": "2023-06-22T12:58:35.010803Z",
     "iopub.status.busy": "2023-06-22T12:58:35.010430Z",
     "iopub.status.idle": "2023-06-22T12:58:35.248186Z",
     "shell.execute_reply": "2023-06-22T12:58:35.247151Z"
    },
    "papermill": {
     "duration": 0.262687,
     "end_time": "2023-06-22T12:58:35.250551",
     "exception": false,
     "start_time": "2023-06-22T12:58:34.987864",
     "status": "completed"
    },
    "tags": []
   },
   "outputs": [
    {
     "data": {
      "text/plain": [
       "<Axes: >"
      ]
     },
     "execution_count": 13,
     "metadata": {},
     "output_type": "execute_result"
    },
    {
     "data": {
      "image/png": "[encoded data removed]",
      "text/plain": [
       "<Figure size 640x480 with 1 Axes>"
      ]
     },
     "metadata": {},
     "output_type": "display_data"
    }
   ],
   "source": [
    "sns.boxplot(df.Income)"
   ]
  },
  {
   "attachments": {},
   "cell_type": "markdown",
   "id": "c6a2e95b",
   "metadata": {
    "papermill": {
     "duration": 0.020834,
     "end_time": "2023-06-22T12:58:35.292456",
     "exception": false,
     "start_time": "2023-06-22T12:58:35.271622",
     "status": "completed"
    },
    "tags": []
   },
   "source": [
    "#### Hence we see that there's no specific Outliers in Income"
   ]
  },
  {
   "attachments": {},
   "cell_type": "markdown",
   "id": "9c01d367",
   "metadata": {
    "papermill": {
     "duration": 0.021165,
     "end_time": "2023-06-22T12:58:35.335006",
     "exception": false,
     "start_time": "2023-06-22T12:58:35.313841",
     "status": "completed"
    },
    "tags": []
   },
   "source": [
    "# Data Preprocessing\n",
    "#### Before feeding the Data into the Model, we must assure that the Dataset is Preprocessed."
   ]
  },
  {
   "attachments": {},
   "cell_type": "markdown",
   "id": "67835713",
   "metadata": {
    "papermill": {
     "duration": 0.021826,
     "end_time": "2023-06-22T12:58:35.378198",
     "exception": false,
     "start_time": "2023-06-22T12:58:35.356372",
     "status": "completed"
    },
    "tags": []
   },
   "source": [
    "### Feature Engineering\n",
    "A critical part of the successful Machine Learning project is coming up with a good set of features to train on. This process is called feature engineering, and it involves three steps: feature transformation (transforming the original features), feature selection (selecting the most useful features to train on), and feature extraction (combining existing features to produce more useful ones"
   ]
  },
  {
   "attachments": {},
   "cell_type": "markdown",
   "id": "2124805b",
   "metadata": {
    "papermill": {
     "duration": 0.022863,
     "end_time": "2023-06-22T12:58:35.422241",
     "exception": false,
     "start_time": "2023-06-22T12:58:35.399378",
     "status": "completed"
    },
    "tags": []
   },
   "source": [
    "#### Removing Unnecessary Feature"
   ]
  },
  {
   "cell_type": "code",
   "execution_count": 14,
   "id": "c709d205",
   "metadata": {
    "execution": {
     "iopub.execute_input": "2023-06-22T12:58:35.467371Z",
     "iopub.status.busy": "2023-06-22T12:58:35.466374Z",
     "iopub.status.idle": "2023-06-22T12:58:35.518850Z",
     "shell.execute_reply": "2023-06-22T12:58:35.517741Z"
    },
    "papermill": {
     "duration": 0.077504,
     "end_time": "2023-06-22T12:58:35.521485",
     "exception": false,
     "start_time": "2023-06-22T12:58:35.443981",
     "status": "completed"
    },
    "tags": []
   },
   "outputs": [],
   "source": [
    "df_en = df.copy()\n",
    "\n",
    "# Let's drop the unnecessary Features\n",
    "df_en = df_en.drop('CITY',axis=1)\n",
    "df_en = df_en.drop('STATE',axis=1)"
   ]
  },
  {
   "attachments": {},
   "cell_type": "markdown",
   "id": "028a630d",
   "metadata": {
    "papermill": {
     "duration": 0.020766,
     "end_time": "2023-06-22T12:58:35.562876",
     "exception": false,
     "start_time": "2023-06-22T12:58:35.542110",
     "status": "completed"
    },
    "tags": []
   },
   "source": [
    "### Encoding Categorical Data\n",
    "#### Encoding categorical Data is one of the important steps in Data Preprocessing."
   ]
  },
  {
   "cell_type": "code",
   "execution_count": 15,
   "id": "4a020678",
   "metadata": {
    "execution": {
     "iopub.execute_input": "2023-06-22T12:58:35.607366Z",
     "iopub.status.busy": "2023-06-22T12:58:35.606963Z",
     "iopub.status.idle": "2023-06-22T12:58:35.950314Z",
     "shell.execute_reply": "2023-06-22T12:58:35.949203Z"
    },
    "papermill": {
     "duration": 0.368441,
     "end_time": "2023-06-22T12:58:35.952616",
     "exception": false,
     "start_time": "2023-06-22T12:58:35.584175",
     "status": "completed"
    },
    "tags": []
   },
   "outputs": [
    {
     "data": {
      "text/html": [
       "<div>\n",
       "<style scoped>\n",
       "    .dataframe tbody tr th:only-of-type {\n",
       "        vertical-align: middle;\n",
       "    }\n",
       "\n",
       "    .dataframe tbody tr th {\n",
       "        vertical-align: top;\n",
       "    }\n",
       "\n",
       "    .dataframe thead th {\n",
       "        text-align: right;\n",
       "    }\n",
       "</style>\n",
       "<table border=\"1\" class=\"dataframe\">\n",
       "  <thead>\n",
       "    <tr style=\"text-align: right;\">\n",
       "      <th></th>\n",
       "      <th>Income</th>\n",
       "      <th>Age</th>\n",
       "      <th>Experience</th>\n",
       "      <th>Married/Single</th>\n",
       "      <th>House_Ownership</th>\n",
       "      <th>Car_Ownership</th>\n",
       "      <th>Profession</th>\n",
       "      <th>CURRENT_JOB_YRS</th>\n",
       "      <th>CURRENT_HOUSE_YRS</th>\n",
       "      <th>Risk_Flag</th>\n",
       "    </tr>\n",
       "  </thead>\n",
       "  <tbody>\n",
       "    <tr>\n",
       "      <th>0</th>\n",
       "      <td>1303834</td>\n",
       "      <td>23</td>\n",
       "      <td>3</td>\n",
       "      <td>1</td>\n",
       "      <td>2</td>\n",
       "      <td>0</td>\n",
       "      <td>33</td>\n",
       "      <td>3</td>\n",
       "      <td>13</td>\n",
       "      <td>0</td>\n",
       "    </tr>\n",
       "    <tr>\n",
       "      <th>1</th>\n",
       "      <td>7574516</td>\n",
       "      <td>40</td>\n",
       "      <td>10</td>\n",
       "      <td>1</td>\n",
       "      <td>2</td>\n",
       "      <td>0</td>\n",
       "      <td>43</td>\n",
       "      <td>9</td>\n",
       "      <td>13</td>\n",
       "      <td>0</td>\n",
       "    </tr>\n",
       "    <tr>\n",
       "      <th>2</th>\n",
       "      <td>3991815</td>\n",
       "      <td>66</td>\n",
       "      <td>4</td>\n",
       "      <td>0</td>\n",
       "      <td>2</td>\n",
       "      <td>0</td>\n",
       "      <td>47</td>\n",
       "      <td>4</td>\n",
       "      <td>10</td>\n",
       "      <td>0</td>\n",
       "    </tr>\n",
       "    <tr>\n",
       "      <th>3</th>\n",
       "      <td>6256451</td>\n",
       "      <td>41</td>\n",
       "      <td>2</td>\n",
       "      <td>1</td>\n",
       "      <td>2</td>\n",
       "      <td>1</td>\n",
       "      <td>43</td>\n",
       "      <td>2</td>\n",
       "      <td>12</td>\n",
       "      <td>1</td>\n",
       "    </tr>\n",
       "    <tr>\n",
       "      <th>4</th>\n",
       "      <td>5768871</td>\n",
       "      <td>47</td>\n",
       "      <td>11</td>\n",
       "      <td>1</td>\n",
       "      <td>2</td>\n",
       "      <td>0</td>\n",
       "      <td>11</td>\n",
       "      <td>3</td>\n",
       "      <td>14</td>\n",
       "      <td>1</td>\n",
       "    </tr>\n",
       "  </tbody>\n",
       "</table>\n",
       "</div>"
      ],
      "text/plain": [
       "    Income  Age  Experience  Married/Single  House_Ownership  Car_Ownership  \\\n",
       "0  1303834   23           3               1                2              0   \n",
       "1  7574516   40          10               1                2              0   \n",
       "2  3991815   66           4               0                2              0   \n",
       "3  6256451   41           2               1                2              1   \n",
       "4  5768871   47          11               1                2              0   \n",
       "\n",
       "   Profession  CURRENT_JOB_YRS  CURRENT_HOUSE_YRS  Risk_Flag  \n",
       "0          33                3                 13          0  \n",
       "1          43                9                 13          0  \n",
       "2          47                4                 10          0  \n",
       "3          43                2                 12          1  \n",
       "4          11                3                 14          1  "
      ]
     },
     "execution_count": 15,
     "metadata": {},
     "output_type": "execute_result"
    }
   ],
   "source": [
    "# Using Label Encoder to encode our Categorical Data\n",
    "\n",
    "encoder = LabelEncoder()\n",
    "\n",
    "categorical = ['Married/Single', 'House_Ownership', 'Car_Ownership','Profession']\n",
    "\n",
    "for feature in categorical:\n",
    "    df_en[feature] = encoder.fit_transform(df_en[feature])\n",
    "\n",
    "df_en.head()"
   ]
  },
  {
   "cell_type": "code",
   "execution_count": 16,
   "id": "8d98800c",
   "metadata": {
    "execution": {
     "iopub.execute_input": "2023-06-22T12:58:35.998840Z",
     "iopub.status.busy": "2023-06-22T12:58:35.997970Z",
     "iopub.status.idle": "2023-06-22T12:58:36.029255Z",
     "shell.execute_reply": "2023-06-22T12:58:36.028134Z"
    },
    "papermill": {
     "duration": 0.056376,
     "end_time": "2023-06-22T12:58:36.032765",
     "exception": false,
     "start_time": "2023-06-22T12:58:35.976389",
     "status": "completed"
    },
    "tags": []
   },
   "outputs": [
    {
     "name": "stdout",
     "output_type": "stream",
     "text": [
      "'Mechanical_engineer' : 33\n",
      "'Software_Developer' : 43\n",
      "'Technical_writer' : 47\n",
      "'Civil_servant' : 11\n",
      "'Librarian' : 31\n",
      "'Economist' : 20\n",
      "'Flight_attendant' : 25\n",
      "'Architect' : 2\n",
      "'Designer' : 18\n",
      "'Physician' : 37\n",
      "'Financial_Analyst' : 23\n",
      "'Air_traffic_controller' : 0\n",
      "'Politician' : 39\n",
      "'Police_officer' : 38\n",
      "'Artist' : 4\n",
      "'Surveyor' : 46\n",
      "'Design_Engineer' : 17\n",
      "'Chemical_engineer' : 9\n",
      "'Hotel_Manager' : 28\n",
      "'Dentist' : 16\n",
      "'Comedian' : 12\n",
      "'Biomedical_Engineer' : 6\n",
      "'Graphic_Designer' : 27\n",
      "'Computer_hardware_engineer' : 13\n",
      "'Petroleum_Engineer' : 36\n",
      "'Secretary' : 42\n",
      "'Computer_operator' : 14\n",
      "'Chartered_Accountant' : 7\n",
      "'Technician' : 48\n",
      "'Microbiologist' : 34\n",
      "'Fashion_Designer' : 22\n",
      "'Aviator' : 5\n",
      "'Psychologist' : 40\n",
      "'Magistrate' : 32\n",
      "'Lawyer' : 30\n",
      "'Firefighter' : 24\n",
      "'Engineer' : 21\n",
      "'Official' : 35\n",
      "'Analyst' : 1\n",
      "'Geologist' : 26\n",
      "'Drafter' : 19\n",
      "'Statistician' : 44\n",
      "'Web_designer' : 50\n",
      "'Consultant' : 15\n",
      "'Chef' : 8\n",
      "'Army_officer' : 3\n",
      "'Surgeon' : 45\n",
      "'Scientist' : 41\n",
      "'Civil_engineer' : 10\n",
      "'Industrial_Engineer' : 29\n",
      "'Technology_specialist' : 49\n"
     ]
    }
   ],
   "source": [
    "# Let's see what Encoding Label Encoder has done to our Profession Feature\n",
    "\n",
    "unique_features = df['Profession'].unique()\n",
    "encoded_features = df_en['Profession'].unique()\n",
    "for feature, encoded_feature in zip(unique_features, encoded_features):\n",
    "    print(f\"'{feature}' : {encoded_feature}\")"
   ]
  },
  {
   "cell_type": "code",
   "execution_count": 17,
   "id": "1dc64cfb",
   "metadata": {
    "execution": {
     "iopub.execute_input": "2023-06-22T12:58:36.076534Z",
     "iopub.status.busy": "2023-06-22T12:58:36.075859Z",
     "iopub.status.idle": "2023-06-22T12:58:36.103166Z",
     "shell.execute_reply": "2023-06-22T12:58:36.102074Z"
    },
    "papermill": {
     "duration": 0.052063,
     "end_time": "2023-06-22T12:58:36.106128",
     "exception": false,
     "start_time": "2023-06-22T12:58:36.054065",
     "status": "completed"
    },
    "tags": []
   },
   "outputs": [
    {
     "name": "stdout",
     "output_type": "stream",
     "text": [
      "'rented' : 2\n",
      "'norent_noown' : 0\n",
      "'owned' : 1\n"
     ]
    }
   ],
   "source": [
    "# Similarly Le's check for House Ownership\n",
    "\n",
    "unique_features = df['House_Ownership'].unique()\n",
    "encoded_features = df_en['House_Ownership'].unique()\n",
    "for feature, encoded_feature in zip(unique_features, encoded_features):\n",
    "    print(f\"'{feature}' : {encoded_feature}\")"
   ]
  },
  {
   "cell_type": "code",
   "execution_count": 18,
   "id": "2f4071ef",
   "metadata": {
    "execution": {
     "iopub.execute_input": "2023-06-22T12:58:36.150200Z",
     "iopub.status.busy": "2023-06-22T12:58:36.149285Z",
     "iopub.status.idle": "2023-06-22T12:58:36.156327Z",
     "shell.execute_reply": "2023-06-22T12:58:36.155285Z"
    },
    "papermill": {
     "duration": 0.031004,
     "end_time": "2023-06-22T12:58:36.158447",
     "exception": false,
     "start_time": "2023-06-22T12:58:36.127443",
     "status": "completed"
    },
    "tags": []
   },
   "outputs": [
    {
     "data": {
      "text/plain": [
       "Index(['Income', 'Age', 'Experience', 'Married/Single', 'House_Ownership',\n",
       "       'Car_Ownership', 'Profession', 'CURRENT_JOB_YRS', 'CURRENT_HOUSE_YRS',\n",
       "       'Risk_Flag'],\n",
       "      dtype='object')"
      ]
     },
     "execution_count": 18,
     "metadata": {},
     "output_type": "execute_result"
    }
   ],
   "source": [
    "df_en.columns"
   ]
  },
  {
   "attachments": {},
   "cell_type": "markdown",
   "id": "41e9bc5b",
   "metadata": {
    "papermill": {
     "duration": 0.02066,
     "end_time": "2023-06-22T12:58:36.200031",
     "exception": false,
     "start_time": "2023-06-22T12:58:36.179371",
     "status": "completed"
    },
    "tags": []
   },
   "source": [
    "### Feature Selection\n",
    "#### Now we will construct a `heatmap()`, using the *seaborn* library with a newly formed data frame, 'new_data'."
   ]
  },
  {
   "cell_type": "code",
   "execution_count": 19,
   "id": "45daeff5",
   "metadata": {
    "execution": {
     "iopub.execute_input": "2023-06-22T12:58:36.244475Z",
     "iopub.status.busy": "2023-06-22T12:58:36.243466Z",
     "iopub.status.idle": "2023-06-22T12:58:37.281405Z",
     "shell.execute_reply": "2023-06-22T12:58:37.280431Z"
    },
    "papermill": {
     "duration": 1.063202,
     "end_time": "2023-06-22T12:58:37.284621",
     "exception": false,
     "start_time": "2023-06-22T12:58:36.221419",
     "status": "completed"
    },
    "tags": []
   },
   "outputs": [
    {
     "data": {
      "image/png": "[encoded data removed]",
      "text/plain": [
       "<Figure size 1800x1800 with 2 Axes>"
      ]
     },
     "metadata": {},
     "output_type": "display_data"
    }
   ],
   "source": [
    "plt.figure(figsize=(18,18))\n",
    "sns.heatmap(df_en.corr(),annot=True,cmap='RdYlGn')\n",
    "\n",
    "plt.show()"
   ]
  },
  {
   "attachments": {},
   "cell_type": "markdown",
   "id": "c607f6b2",
   "metadata": {
    "papermill": {
     "duration": 0.024368,
     "end_time": "2023-06-22T12:58:37.332410",
     "exception": false,
     "start_time": "2023-06-22T12:58:37.308042",
     "status": "completed"
    },
    "tags": []
   },
   "source": [
    "#### Now, we can use the `corr()` function to calculate and list the correlation between all independent variables and the 'Risk_Factor'."
   ]
  },
  {
   "cell_type": "code",
   "execution_count": 20,
   "id": "ce8a0775",
   "metadata": {
    "execution": {
     "iopub.execute_input": "2023-06-22T12:58:37.383340Z",
     "iopub.status.busy": "2023-06-22T12:58:37.382951Z",
     "iopub.status.idle": "2023-06-22T12:58:37.491762Z",
     "shell.execute_reply": "2023-06-22T12:58:37.490561Z"
    },
    "papermill": {
     "duration": 0.137874,
     "end_time": "2023-06-22T12:58:37.495007",
     "exception": false,
     "start_time": "2023-06-22T12:58:37.357133",
     "status": "completed"
    },
    "tags": []
   },
   "outputs": [
    {
     "data": {
      "text/plain": [
       "Experience          -0.034523\n",
       "Car_Ownership       -0.024036\n",
       "Age                 -0.021809\n",
       "CURRENT_JOB_YRS     -0.016942\n",
       "Profession          -0.004900\n",
       "CURRENT_HOUSE_YRS   -0.004375\n",
       "Income              -0.003091\n",
       "Married/Single       0.021092\n",
       "House_Ownership      0.023622\n",
       "Risk_Flag            1.000000\n",
       "Name: Risk_Flag, dtype: float64"
      ]
     },
     "execution_count": 20,
     "metadata": {},
     "output_type": "execute_result"
    }
   ],
   "source": [
    "features = df_en.corr()['Risk_Flag'].sort_values()\n",
    "features"
   ]
  },
  {
   "attachments": {},
   "cell_type": "markdown",
   "id": "70bf088a",
   "metadata": {
    "papermill": {
     "duration": 0.022712,
     "end_time": "2023-06-22T12:58:37.542763",
     "exception": false,
     "start_time": "2023-06-22T12:58:37.520051",
     "status": "completed"
    },
    "tags": []
   },
   "source": [
    "### Feature Scaling"
   ]
  },
  {
   "cell_type": "code",
   "execution_count": 21,
   "id": "72699816",
   "metadata": {
    "execution": {
     "iopub.execute_input": "2023-06-22T12:58:37.590599Z",
     "iopub.status.busy": "2023-06-22T12:58:37.590242Z",
     "iopub.status.idle": "2023-06-22T12:58:37.704854Z",
     "shell.execute_reply": "2023-06-22T12:58:37.703698Z"
    },
    "papermill": {
     "duration": 0.141768,
     "end_time": "2023-06-22T12:58:37.707936",
     "exception": false,
     "start_time": "2023-06-22T12:58:37.566168",
     "status": "completed"
    },
    "tags": []
   },
   "outputs": [
    {
     "data": {
      "text/html": [
       "<div>\n",
       "<style scoped>\n",
       "    .dataframe tbody tr th:only-of-type {\n",
       "        vertical-align: middle;\n",
       "    }\n",
       "\n",
       "    .dataframe tbody tr th {\n",
       "        vertical-align: top;\n",
       "    }\n",
       "\n",
       "    .dataframe thead th {\n",
       "        text-align: right;\n",
       "    }\n",
       "</style>\n",
       "<table border=\"1\" class=\"dataframe\">\n",
       "  <thead>\n",
       "    <tr style=\"text-align: right;\">\n",
       "      <th></th>\n",
       "      <th>Income</th>\n",
       "      <th>Age</th>\n",
       "      <th>Experience</th>\n",
       "      <th>Married/Single</th>\n",
       "      <th>House_Ownership</th>\n",
       "      <th>Car_Ownership</th>\n",
       "      <th>Profession</th>\n",
       "      <th>CURRENT_JOB_YRS</th>\n",
       "      <th>CURRENT_HOUSE_YRS</th>\n",
       "      <th>Risk_Flag</th>\n",
       "    </tr>\n",
       "  </thead>\n",
       "  <tbody>\n",
       "    <tr>\n",
       "      <th>count</th>\n",
       "      <td>2.520000e+05</td>\n",
       "      <td>252000.000000</td>\n",
       "      <td>252000.000000</td>\n",
       "      <td>252000.000000</td>\n",
       "      <td>252000.000000</td>\n",
       "      <td>252000.000000</td>\n",
       "      <td>252000.000000</td>\n",
       "      <td>252000.000000</td>\n",
       "      <td>252000.000000</td>\n",
       "      <td>252000.000000</td>\n",
       "    </tr>\n",
       "    <tr>\n",
       "      <th>mean</th>\n",
       "      <td>4.997117e+06</td>\n",
       "      <td>49.954071</td>\n",
       "      <td>10.084437</td>\n",
       "      <td>0.897905</td>\n",
       "      <td>1.891722</td>\n",
       "      <td>0.301587</td>\n",
       "      <td>25.276746</td>\n",
       "      <td>6.333877</td>\n",
       "      <td>11.997794</td>\n",
       "      <td>0.123000</td>\n",
       "    </tr>\n",
       "    <tr>\n",
       "      <th>std</th>\n",
       "      <td>2.878311e+06</td>\n",
       "      <td>17.063855</td>\n",
       "      <td>6.002590</td>\n",
       "      <td>0.302774</td>\n",
       "      <td>0.391880</td>\n",
       "      <td>0.458948</td>\n",
       "      <td>14.728537</td>\n",
       "      <td>3.647053</td>\n",
       "      <td>1.399037</td>\n",
       "      <td>0.328438</td>\n",
       "    </tr>\n",
       "    <tr>\n",
       "      <th>min</th>\n",
       "      <td>1.031000e+04</td>\n",
       "      <td>21.000000</td>\n",
       "      <td>0.000000</td>\n",
       "      <td>0.000000</td>\n",
       "      <td>0.000000</td>\n",
       "      <td>0.000000</td>\n",
       "      <td>0.000000</td>\n",
       "      <td>0.000000</td>\n",
       "      <td>10.000000</td>\n",
       "      <td>0.000000</td>\n",
       "    </tr>\n",
       "    <tr>\n",
       "      <th>25%</th>\n",
       "      <td>2.503015e+06</td>\n",
       "      <td>35.000000</td>\n",
       "      <td>5.000000</td>\n",
       "      <td>1.000000</td>\n",
       "      <td>2.000000</td>\n",
       "      <td>0.000000</td>\n",
       "      <td>13.000000</td>\n",
       "      <td>3.000000</td>\n",
       "      <td>11.000000</td>\n",
       "      <td>0.000000</td>\n",
       "    </tr>\n",
       "    <tr>\n",
       "      <th>50%</th>\n",
       "      <td>5.000694e+06</td>\n",
       "      <td>50.000000</td>\n",
       "      <td>10.000000</td>\n",
       "      <td>1.000000</td>\n",
       "      <td>2.000000</td>\n",
       "      <td>0.000000</td>\n",
       "      <td>26.000000</td>\n",
       "      <td>6.000000</td>\n",
       "      <td>12.000000</td>\n",
       "      <td>0.000000</td>\n",
       "    </tr>\n",
       "    <tr>\n",
       "      <th>75%</th>\n",
       "      <td>7.477502e+06</td>\n",
       "      <td>65.000000</td>\n",
       "      <td>15.000000</td>\n",
       "      <td>1.000000</td>\n",
       "      <td>2.000000</td>\n",
       "      <td>1.000000</td>\n",
       "      <td>38.000000</td>\n",
       "      <td>9.000000</td>\n",
       "      <td>13.000000</td>\n",
       "      <td>0.000000</td>\n",
       "    </tr>\n",
       "    <tr>\n",
       "      <th>max</th>\n",
       "      <td>9.999938e+06</td>\n",
       "      <td>79.000000</td>\n",
       "      <td>20.000000</td>\n",
       "      <td>1.000000</td>\n",
       "      <td>2.000000</td>\n",
       "      <td>1.000000</td>\n",
       "      <td>50.000000</td>\n",
       "      <td>14.000000</td>\n",
       "      <td>14.000000</td>\n",
       "      <td>1.000000</td>\n",
       "    </tr>\n",
       "  </tbody>\n",
       "</table>\n",
       "</div>"
      ],
      "text/plain": [
       "             Income            Age     Experience  Married/Single  \\\n",
       "count  2.520000e+05  252000.000000  252000.000000   252000.000000   \n",
       "mean   4.997117e+06      49.954071      10.084437        0.897905   \n",
       "std    2.878311e+06      17.063855       6.002590        0.302774   \n",
       "min    1.031000e+04      21.000000       0.000000        0.000000   \n",
       "25%    2.503015e+06      35.000000       5.000000        1.000000   \n",
       "50%    5.000694e+06      50.000000      10.000000        1.000000   \n",
       "75%    7.477502e+06      65.000000      15.000000        1.000000   \n",
       "max    9.999938e+06      79.000000      20.000000        1.000000   \n",
       "\n",
       "       House_Ownership  Car_Ownership     Profession  CURRENT_JOB_YRS  \\\n",
       "count    252000.000000  252000.000000  252000.000000    252000.000000   \n",
       "mean          1.891722       0.301587      25.276746         6.333877   \n",
       "std           0.391880       0.458948      14.728537         3.647053   \n",
       "min           0.000000       0.000000       0.000000         0.000000   \n",
       "25%           2.000000       0.000000      13.000000         3.000000   \n",
       "50%           2.000000       0.000000      26.000000         6.000000   \n",
       "75%           2.000000       1.000000      38.000000         9.000000   \n",
       "max           2.000000       1.000000      50.000000        14.000000   \n",
       "\n",
       "       CURRENT_HOUSE_YRS      Risk_Flag  \n",
       "count      252000.000000  252000.000000  \n",
       "mean           11.997794       0.123000  \n",
       "std             1.399037       0.328438  \n",
       "min            10.000000       0.000000  \n",
       "25%            11.000000       0.000000  \n",
       "50%            12.000000       0.000000  \n",
       "75%            13.000000       0.000000  \n",
       "max            14.000000       1.000000  "
      ]
     },
     "execution_count": 21,
     "metadata": {},
     "output_type": "execute_result"
    }
   ],
   "source": [
    "df_en.describe()"
   ]
  },
  {
   "attachments": {},
   "cell_type": "markdown",
   "id": "6ddb108b",
   "metadata": {
    "papermill": {
     "duration": 0.023832,
     "end_time": "2023-06-22T12:58:37.755878",
     "exception": false,
     "start_time": "2023-06-22T12:58:37.732046",
     "status": "completed"
    },
    "tags": []
   },
   "source": [
    "#### Here, we should scale our data as they are not in the same scale"
   ]
  },
  {
   "cell_type": "code",
   "execution_count": 22,
   "id": "ec8b0bcd",
   "metadata": {
    "execution": {
     "iopub.execute_input": "2023-06-22T12:58:37.805868Z",
     "iopub.status.busy": "2023-06-22T12:58:37.804805Z",
     "iopub.status.idle": "2023-06-22T12:58:38.006042Z",
     "shell.execute_reply": "2023-06-22T12:58:38.005033Z"
    },
    "papermill": {
     "duration": 0.228753,
     "end_time": "2023-06-22T12:58:38.008363",
     "exception": false,
     "start_time": "2023-06-22T12:58:37.779610",
     "status": "completed"
    },
    "tags": []
   },
   "outputs": [
    {
     "data": {
      "text/html": [
       "<div>\n",
       "<style scoped>\n",
       "    .dataframe tbody tr th:only-of-type {\n",
       "        vertical-align: middle;\n",
       "    }\n",
       "\n",
       "    .dataframe tbody tr th {\n",
       "        vertical-align: top;\n",
       "    }\n",
       "\n",
       "    .dataframe thead th {\n",
       "        text-align: right;\n",
       "    }\n",
       "</style>\n",
       "<table border=\"1\" class=\"dataframe\">\n",
       "  <thead>\n",
       "    <tr style=\"text-align: right;\">\n",
       "      <th></th>\n",
       "      <th>Income</th>\n",
       "      <th>Age</th>\n",
       "      <th>Experience</th>\n",
       "      <th>Married/Single</th>\n",
       "      <th>House_Ownership</th>\n",
       "      <th>Car_Ownership</th>\n",
       "      <th>Profession</th>\n",
       "      <th>CURRENT_JOB_YRS</th>\n",
       "      <th>CURRENT_HOUSE_YRS</th>\n",
       "      <th>Risk_Flag</th>\n",
       "    </tr>\n",
       "  </thead>\n",
       "  <tbody>\n",
       "    <tr>\n",
       "      <th>count</th>\n",
       "      <td>252000.000000</td>\n",
       "      <td>252000.000000</td>\n",
       "      <td>252000.000000</td>\n",
       "      <td>252000.000000</td>\n",
       "      <td>252000.000000</td>\n",
       "      <td>252000.000000</td>\n",
       "      <td>252000.000000</td>\n",
       "      <td>252000.000000</td>\n",
       "      <td>252000.000000</td>\n",
       "      <td>252000.000000</td>\n",
       "    </tr>\n",
       "    <tr>\n",
       "      <th>mean</th>\n",
       "      <td>0.499198</td>\n",
       "      <td>0.499208</td>\n",
       "      <td>0.504222</td>\n",
       "      <td>0.897905</td>\n",
       "      <td>0.945861</td>\n",
       "      <td>0.301587</td>\n",
       "      <td>0.505535</td>\n",
       "      <td>0.452420</td>\n",
       "      <td>0.499448</td>\n",
       "      <td>0.123000</td>\n",
       "    </tr>\n",
       "    <tr>\n",
       "      <th>std</th>\n",
       "      <td>0.288130</td>\n",
       "      <td>0.294204</td>\n",
       "      <td>0.300129</td>\n",
       "      <td>0.302774</td>\n",
       "      <td>0.195940</td>\n",
       "      <td>0.458948</td>\n",
       "      <td>0.294571</td>\n",
       "      <td>0.260504</td>\n",
       "      <td>0.349759</td>\n",
       "      <td>0.328438</td>\n",
       "    </tr>\n",
       "    <tr>\n",
       "      <th>min</th>\n",
       "      <td>0.000000</td>\n",
       "      <td>0.000000</td>\n",
       "      <td>0.000000</td>\n",
       "      <td>0.000000</td>\n",
       "      <td>0.000000</td>\n",
       "      <td>0.000000</td>\n",
       "      <td>0.000000</td>\n",
       "      <td>0.000000</td>\n",
       "      <td>0.000000</td>\n",
       "      <td>0.000000</td>\n",
       "    </tr>\n",
       "    <tr>\n",
       "      <th>25%</th>\n",
       "      <td>0.249529</td>\n",
       "      <td>0.241379</td>\n",
       "      <td>0.250000</td>\n",
       "      <td>1.000000</td>\n",
       "      <td>1.000000</td>\n",
       "      <td>0.000000</td>\n",
       "      <td>0.260000</td>\n",
       "      <td>0.214286</td>\n",
       "      <td>0.250000</td>\n",
       "      <td>0.000000</td>\n",
       "    </tr>\n",
       "    <tr>\n",
       "      <th>50%</th>\n",
       "      <td>0.499557</td>\n",
       "      <td>0.500000</td>\n",
       "      <td>0.500000</td>\n",
       "      <td>1.000000</td>\n",
       "      <td>1.000000</td>\n",
       "      <td>0.000000</td>\n",
       "      <td>0.520000</td>\n",
       "      <td>0.428571</td>\n",
       "      <td>0.500000</td>\n",
       "      <td>0.000000</td>\n",
       "    </tr>\n",
       "    <tr>\n",
       "      <th>75%</th>\n",
       "      <td>0.747495</td>\n",
       "      <td>0.758621</td>\n",
       "      <td>0.750000</td>\n",
       "      <td>1.000000</td>\n",
       "      <td>1.000000</td>\n",
       "      <td>1.000000</td>\n",
       "      <td>0.760000</td>\n",
       "      <td>0.642857</td>\n",
       "      <td>0.750000</td>\n",
       "      <td>0.000000</td>\n",
       "    </tr>\n",
       "    <tr>\n",
       "      <th>max</th>\n",
       "      <td>1.000000</td>\n",
       "      <td>1.000000</td>\n",
       "      <td>1.000000</td>\n",
       "      <td>1.000000</td>\n",
       "      <td>1.000000</td>\n",
       "      <td>1.000000</td>\n",
       "      <td>1.000000</td>\n",
       "      <td>1.000000</td>\n",
       "      <td>1.000000</td>\n",
       "      <td>1.000000</td>\n",
       "    </tr>\n",
       "  </tbody>\n",
       "</table>\n",
       "</div>"
      ],
      "text/plain": [
       "              Income            Age     Experience  Married/Single  \\\n",
       "count  252000.000000  252000.000000  252000.000000   252000.000000   \n",
       "mean        0.499198       0.499208       0.504222        0.897905   \n",
       "std         0.288130       0.294204       0.300129        0.302774   \n",
       "min         0.000000       0.000000       0.000000        0.000000   \n",
       "25%         0.249529       0.241379       0.250000        1.000000   \n",
       "50%         0.499557       0.500000       0.500000        1.000000   \n",
       "75%         0.747495       0.758621       0.750000        1.000000   \n",
       "max         1.000000       1.000000       1.000000        1.000000   \n",
       "\n",
       "       House_Ownership  Car_Ownership     Profession  CURRENT_JOB_YRS  \\\n",
       "count    252000.000000  252000.000000  252000.000000    252000.000000   \n",
       "mean          0.945861       0.301587       0.505535         0.452420   \n",
       "std           0.195940       0.458948       0.294571         0.260504   \n",
       "min           0.000000       0.000000       0.000000         0.000000   \n",
       "25%           1.000000       0.000000       0.260000         0.214286   \n",
       "50%           1.000000       0.000000       0.520000         0.428571   \n",
       "75%           1.000000       1.000000       0.760000         0.642857   \n",
       "max           1.000000       1.000000       1.000000         1.000000   \n",
       "\n",
       "       CURRENT_HOUSE_YRS      Risk_Flag  \n",
       "count      252000.000000  252000.000000  \n",
       "mean            0.499448       0.123000  \n",
       "std             0.349759       0.328438  \n",
       "min             0.000000       0.000000  \n",
       "25%             0.250000       0.000000  \n",
       "50%             0.500000       0.000000  \n",
       "75%             0.750000       0.000000  \n",
       "max             1.000000       1.000000  "
      ]
     },
     "execution_count": 22,
     "metadata": {},
     "output_type": "execute_result"
    }
   ],
   "source": [
    "from sklearn.preprocessing import MinMaxScaler\n",
    "\n",
    "scaler = MinMaxScaler()\n",
    "\n",
    "for i in [df_en.columns]:\n",
    "    df_en[i] = scaler.fit_transform(df_en[i])\n",
    "\n",
    "df_en.describe()"
   ]
  },
  {
   "attachments": {},
   "cell_type": "markdown",
   "id": "2409eb94",
   "metadata": {
    "papermill": {
     "duration": 0.024296,
     "end_time": "2023-06-22T12:58:38.056724",
     "exception": false,
     "start_time": "2023-06-22T12:58:38.032428",
     "status": "completed"
    },
    "tags": []
   },
   "source": [
    "#### All features are now scaled, moving forward we're left with Modelling and choosing the best Model."
   ]
  },
  {
   "attachments": {},
   "cell_type": "markdown",
   "id": "f79753ea",
   "metadata": {
    "papermill": {
     "duration": 0.025189,
     "end_time": "2023-06-22T12:58:38.119443",
     "exception": false,
     "start_time": "2023-06-22T12:58:38.094254",
     "status": "completed"
    },
    "tags": []
   },
   "source": [
    "# Modeling\n",
    "#### Let's Prepare our Training and Testing Datasets."
   ]
  },
  {
   "cell_type": "code",
   "execution_count": 23,
   "id": "13e2478a",
   "metadata": {
    "execution": {
     "iopub.execute_input": "2023-06-22T12:58:38.169791Z",
     "iopub.status.busy": "2023-06-22T12:58:38.168857Z",
     "iopub.status.idle": "2023-06-22T12:58:38.190498Z",
     "shell.execute_reply": "2023-06-22T12:58:38.189550Z"
    },
    "papermill": {
     "duration": 0.048969,
     "end_time": "2023-06-22T12:58:38.192943",
     "exception": false,
     "start_time": "2023-06-22T12:58:38.143974",
     "status": "completed"
    },
    "tags": []
   },
   "outputs": [],
   "source": [
    "# Setting up Training & Testing DFs\n",
    "\n",
    "X = df_en.drop(columns='Risk_Flag')\n",
    "y = df_en['Risk_Flag']"
   ]
  },
  {
   "attachments": {},
   "cell_type": "markdown",
   "id": "9067456e",
   "metadata": {
    "papermill": {
     "duration": 0.024208,
     "end_time": "2023-06-22T12:58:38.241921",
     "exception": false,
     "start_time": "2023-06-22T12:58:38.217713",
     "status": "completed"
    },
    "tags": []
   },
   "source": [
    "#### Defining a Function to Test and See Scores of our Different Models"
   ]
  },
  {
   "cell_type": "code",
   "execution_count": 24,
   "id": "55fa0277",
   "metadata": {
    "execution": {
     "iopub.execute_input": "2023-06-22T12:58:38.291385Z",
     "iopub.status.busy": "2023-06-22T12:58:38.290712Z",
     "iopub.status.idle": "2023-06-22T12:58:38.299047Z",
     "shell.execute_reply": "2023-06-22T12:58:38.298128Z"
    },
    "papermill": {
     "duration": 0.035381,
     "end_time": "2023-06-22T12:58:38.301290",
     "exception": false,
     "start_time": "2023-06-22T12:58:38.265909",
     "status": "completed"
    },
    "tags": []
   },
   "outputs": [],
   "source": [
    "def useModel(model, X_data, y_data):\n",
    "\n",
    "    X_train, X_test, y_train, y_test = train_test_split(X_data, y_data, test_size=0.3, random_state=42)\n",
    "\n",
    "    model = model.fit(X_train, y_train)\n",
    "    y_pred = model.predict(X_test)\n",
    "    print(\"The Classification report : \")\n",
    "    print(classification_report(y_test, y_pred, zero_division=0))\n",
    "    \n",
    "    # Plotting confusion matrix\n",
    "    sns.set_palette(sns.color_palette())\n",
    "    _, ax = plt.subplots(figsize=(6,6))\n",
    "    ax = sns.heatmap(confusion_matrix(y_test, y_pred), annot=True, fmt='d', annot_kws={\"size\": 20})  \n",
    "    labels = ['False', 'True']\n",
    "    ax.set_xticklabels(labels, fontsize=13);\n",
    "    ax.set_yticklabels(labels[::-1], fontsize=13);\n",
    "    ax.set_ylabel('Prediction', fontsize=13);\n",
    "    ax.set_xlabel('Ground Truth', fontsize=13)\n",
    "    ax.set_title(\"Confussion - Matix\")\n",
    "    "
   ]
  },
  {
   "attachments": {},
   "cell_type": "markdown",
   "id": "8e98a0aa",
   "metadata": {
    "papermill": {
     "duration": 0.023749,
     "end_time": "2023-06-22T12:58:38.349504",
     "exception": false,
     "start_time": "2023-06-22T12:58:38.325755",
     "status": "completed"
    },
    "tags": []
   },
   "source": [
    "### Applying Different Models"
   ]
  },
  {
   "cell_type": "code",
   "execution_count": 25,
   "id": "646a3f56",
   "metadata": {
    "execution": {
     "iopub.execute_input": "2023-06-22T12:58:38.407131Z",
     "iopub.status.busy": "2023-06-22T12:58:38.406312Z",
     "iopub.status.idle": "2023-06-22T12:58:53.739261Z",
     "shell.execute_reply": "2023-06-22T12:58:53.738278Z"
    },
    "papermill": {
     "duration": 15.366274,
     "end_time": "2023-06-22T12:58:53.741630",
     "exception": false,
     "start_time": "2023-06-22T12:58:38.375356",
     "status": "completed"
    },
    "tags": []
   },
   "outputs": [
    {
     "name": "stdout",
     "output_type": "stream",
     "text": [
      "The Classification report : \n",
      "              precision    recall  f1-score   support\n",
      "\n",
      "         0.0       0.93      0.94      0.93     66329\n",
      "         1.0       0.53      0.51      0.52      9271\n",
      "\n",
      "    accuracy                           0.89     75600\n",
      "   macro avg       0.73      0.73      0.73     75600\n",
      "weighted avg       0.88      0.89      0.88     75600\n",
      "\n"
     ]
    },
    {
     "data": {
      "image/png": "[encoded data removed]",
      "text/plain": [
       "<Figure size 600x600 with 2 Axes>"
      ]
     },
     "metadata": {},
     "output_type": "display_data"
    }
   ],
   "source": [
    "# Using K-Nearest-Neighborhood\n",
    "\n",
    "from sklearn.neighbors import KNeighborsClassifier\n",
    "\n",
    "useModel(KNeighborsClassifier(n_neighbors=3), X, y)"
   ]
  },
  {
   "cell_type": "code",
   "execution_count": 26,
   "id": "14fa3333",
   "metadata": {
    "execution": {
     "iopub.execute_input": "2023-06-22T12:58:53.794134Z",
     "iopub.status.busy": "2023-06-22T12:58:53.793767Z",
     "iopub.status.idle": "2023-06-22T12:58:55.569150Z",
     "shell.execute_reply": "2023-06-22T12:58:55.568184Z"
    },
    "papermill": {
     "duration": 1.804444,
     "end_time": "2023-06-22T12:58:55.571505",
     "exception": false,
     "start_time": "2023-06-22T12:58:53.767061",
     "status": "completed"
    },
    "tags": []
   },
   "outputs": [
    {
     "name": "stdout",
     "output_type": "stream",
     "text": [
      "The Classification report : \n",
      "              precision    recall  f1-score   support\n",
      "\n",
      "         0.0       0.94      0.92      0.93     66329\n",
      "         1.0       0.51      0.58      0.54      9271\n",
      "\n",
      "    accuracy                           0.88     75600\n",
      "   macro avg       0.73      0.75      0.74     75600\n",
      "weighted avg       0.89      0.88      0.88     75600\n",
      "\n"
     ]
    },
    {
     "data": {
      "image/png": "[encoded data removed]",
      "text/plain": [
       "<Figure size 600x600 with 2 Axes>"
      ]
     },
     "metadata": {},
     "output_type": "display_data"
    }
   ],
   "source": [
    "# Using Decision-Tree-Classifier\n",
    "\n",
    "from sklearn.tree import DecisionTreeClassifier\n",
    "\n",
    "useModel(DecisionTreeClassifier(), X, y)"
   ]
  },
  {
   "cell_type": "code",
   "execution_count": 27,
   "id": "f2bc8f45",
   "metadata": {
    "execution": {
     "iopub.execute_input": "2023-06-22T12:58:55.627468Z",
     "iopub.status.busy": "2023-06-22T12:58:55.626508Z",
     "iopub.status.idle": "2023-06-22T12:59:25.395196Z",
     "shell.execute_reply": "2023-06-22T12:59:25.394180Z"
    },
    "papermill": {
     "duration": 29.799121,
     "end_time": "2023-06-22T12:59:25.397498",
     "exception": false,
     "start_time": "2023-06-22T12:58:55.598377",
     "status": "completed"
    },
    "tags": []
   },
   "outputs": [
    {
     "name": "stdout",
     "output_type": "stream",
     "text": [
      "The Classification report : \n",
      "              precision    recall  f1-score   support\n",
      "\n",
      "         0.0       0.94      0.95      0.94     66329\n",
      "         1.0       0.60      0.55      0.57      9271\n",
      "\n",
      "    accuracy                           0.90     75600\n",
      "   macro avg       0.77      0.75      0.76     75600\n",
      "weighted avg       0.90      0.90      0.90     75600\n",
      "\n"
     ]
    },
    {
     "data": {
      "image/png": "[encoded data removed]",
      "text/plain": [
       "<Figure size 600x600 with 2 Axes>"
      ]
     },
     "metadata": {},
     "output_type": "display_data"
    }
   ],
   "source": [
    "# Using Random Forest classifier\n",
    "\n",
    "from sklearn.ensemble import RandomForestClassifier\n",
    "\n",
    "useModel(RandomForestClassifier(), X, y)"
   ]
  },
  {
   "cell_type": "code",
   "execution_count": 28,
   "id": "1c85ee92",
   "metadata": {
    "execution": {
     "iopub.execute_input": "2023-06-22T12:59:25.451636Z",
     "iopub.status.busy": "2023-06-22T12:59:25.451267Z",
     "iopub.status.idle": "2023-06-22T12:59:32.880077Z",
     "shell.execute_reply": "2023-06-22T12:59:32.879105Z"
    },
    "papermill": {
     "duration": 7.458111,
     "end_time": "2023-06-22T12:59:32.882192",
     "exception": false,
     "start_time": "2023-06-22T12:59:25.424081",
     "status": "completed"
    },
    "tags": []
   },
   "outputs": [
    {
     "name": "stdout",
     "output_type": "stream",
     "text": [
      "The Classification report : \n",
      "              precision    recall  f1-score   support\n",
      "\n",
      "         0.0       0.94      0.94      0.94     66329\n",
      "         1.0       0.58      0.55      0.57      9271\n",
      "\n",
      "    accuracy                           0.90     75600\n",
      "   macro avg       0.76      0.75      0.75     75600\n",
      "weighted avg       0.89      0.90      0.90     75600\n",
      "\n"
     ]
    },
    {
     "data": {
      "image/png": "[encoded data removed]",
      "text/plain": [
       "<Figure size 600x600 with 2 Axes>"
      ]
     },
     "metadata": {},
     "output_type": "display_data"
    }
   ],
   "source": [
    "# Using Bagging Classifier\n",
    "\n",
    "from sklearn.ensemble import BaggingClassifier\n",
    "\n",
    "useModel(BaggingClassifier(), X, y)"
   ]
  },
  {
   "cell_type": "code",
   "execution_count": 29,
   "id": "0ab78d80",
   "metadata": {
    "execution": {
     "iopub.execute_input": "2023-06-22T12:59:32.936962Z",
     "iopub.status.busy": "2023-06-22T12:59:32.936033Z",
     "iopub.status.idle": "2023-06-22T12:59:53.886662Z",
     "shell.execute_reply": "2023-06-22T12:59:53.885664Z"
    },
    "papermill": {
     "duration": 20.98117,
     "end_time": "2023-06-22T12:59:53.888985",
     "exception": false,
     "start_time": "2023-06-22T12:59:32.907815",
     "status": "completed"
    },
    "tags": []
   },
   "outputs": [
    {
     "name": "stdout",
     "output_type": "stream",
     "text": [
      "The Classification report : \n",
      "              precision    recall  f1-score   support\n",
      "\n",
      "         0.0       0.94      0.95      0.94     66329\n",
      "         1.0       0.60      0.53      0.56      9271\n",
      "\n",
      "    accuracy                           0.90     75600\n",
      "   macro avg       0.77      0.74      0.75     75600\n",
      "weighted avg       0.89      0.90      0.90     75600\n",
      "\n"
     ]
    },
    {
     "data": {
      "image/png": "[encoded data removed]",
      "text/plain": [
       "<Figure size 600x600 with 2 Axes>"
      ]
     },
     "metadata": {},
     "output_type": "display_data"
    }
   ],
   "source": [
    "# Using Extra Trees Classifier\n",
    "\n",
    "from sklearn.ensemble import ExtraTreesClassifier\n",
    "\n",
    "useModel(ExtraTreesClassifier(), X, y)"
   ]
  },
  {
   "attachments": {},
   "cell_type": "markdown",
   "id": "c1d9234f",
   "metadata": {
    "papermill": {
     "duration": 0.028779,
     "end_time": "2023-06-22T12:59:53.946277",
     "exception": false,
     "start_time": "2023-06-22T12:59:53.917498",
     "status": "completed"
    },
    "tags": []
   },
   "source": [
    "## Model Selection\n",
    "#### We see that **Random Forrest Classifier** performs the best among all the Models for our Dataset, hence we select **Random Forrest Classifier** for our Production.\n"
   ]
  },
  {
   "cell_type": "code",
   "execution_count": 30,
   "id": "7c2a4887",
   "metadata": {
    "execution": {
     "iopub.execute_input": "2023-06-22T12:59:54.005769Z",
     "iopub.status.busy": "2023-06-22T12:59:54.004769Z",
     "iopub.status.idle": "2023-06-22T12:59:54.011783Z",
     "shell.execute_reply": "2023-06-22T12:59:54.010802Z"
    },
    "papermill": {
     "duration": 0.039139,
     "end_time": "2023-06-22T12:59:54.014140",
     "exception": false,
     "start_time": "2023-06-22T12:59:53.975001",
     "status": "completed"
    },
    "tags": []
   },
   "outputs": [],
   "source": [
    "# Let's see the Train & Test Accuracies\n",
    "\n",
    "def get_accuracy(X_data, y_data, model):\n",
    "    \n",
    "    X_train, X_test, y_train, y_test = train_test_split(X_data, y_data, test_size=0.3, random_state=42)\n",
    "    \n",
    "    model = model.fit(X_train, y_train)\n",
    "    y_pred = model.predict(X_test)\n",
    "    print(\"Test Accuracy : \", accuracy_score(y_test, model.predict(X_test)))\n",
    "    print(\"Train Accuracy : \", accuracy_score(y_train, model.predict(X_train)))"
   ]
  },
  {
   "cell_type": "code",
   "execution_count": 31,
   "id": "401d432e",
   "metadata": {
    "execution": {
     "iopub.execute_input": "2023-06-22T12:59:54.070195Z",
     "iopub.status.busy": "2023-06-22T12:59:54.069849Z",
     "iopub.status.idle": "2023-06-22T13:00:29.203616Z",
     "shell.execute_reply": "2023-06-22T13:00:29.202256Z"
    },
    "papermill": {
     "duration": 35.16474,
     "end_time": "2023-06-22T13:00:29.206238",
     "exception": false,
     "start_time": "2023-06-22T12:59:54.041498",
     "status": "completed"
    },
    "tags": []
   },
   "outputs": [
    {
     "name": "stdout",
     "output_type": "stream",
     "text": [
      "Test Accuracy :  0.898994708994709\n",
      "Train Accuracy :  0.9373469387755102\n"
     ]
    }
   ],
   "source": [
    "get_accuracy(X, y, RandomForestClassifier())"
   ]
  },
  {
   "attachments": {},
   "cell_type": "markdown",
   "id": "c6449811",
   "metadata": {
    "papermill": {
     "duration": 0.027156,
     "end_time": "2023-06-22T13:00:29.262197",
     "exception": false,
     "start_time": "2023-06-22T13:00:29.235041",
     "status": "completed"
    },
    "tags": []
   },
   "source": [
    "#### Hence, we conclude by showing our final outcomes i.e., \n",
    "#### TEST accuracy of 89.88% ~ 90% and,\n",
    "#### TRAIN acccuracy of 93.73% ~ 94%"
   ]
  },
  {
   "attachments": {},
   "cell_type": "markdown",
   "id": "227da685",
   "metadata": {
    "papermill": {
     "duration": 0.026982,
     "end_time": "2023-06-22T13:00:29.316132",
     "exception": false,
     "start_time": "2023-06-22T13:00:29.289150",
     "status": "completed"
    },
    "tags": []
   },
   "source": [
    "## Hyperparameter Tuning"
   ]
  },
  {
   "cell_type": "code",
   "execution_count": 32,
   "id": "97338f4b",
   "metadata": {
    "execution": {
     "iopub.execute_input": "2023-06-22T13:00:29.374458Z",
     "iopub.status.busy": "2023-06-22T13:00:29.373507Z",
     "iopub.status.idle": "2023-06-22T13:01:55.176122Z",
     "shell.execute_reply": "2023-06-22T13:01:55.175179Z"
    },
    "papermill": {
     "duration": 85.861396,
     "end_time": "2023-06-22T13:01:55.205536",
     "exception": false,
     "start_time": "2023-06-22T13:00:29.344140",
     "status": "completed"
    },
    "tags": []
   },
   "outputs": [
    {
     "data": {
      "text/html": [
       "<style>#sk-container-id-1 {color: black;background-color: white;}#sk-container-id-1 pre{padding: 0;}#sk-container-id-1 div.sk-toggleable {background-color: white;}#sk-container-id-1 label.sk-toggleable__label {cursor: pointer;display: block;width: 100%;margin-bottom: 0;padding: 0.3em;box-sizing: border-box;text-align: center;}#sk-container-id-1 label.sk-toggleable__label-arrow:before {content: \"▸\";float: left;margin-right: 0.25em;color: #696969;}#sk-container-id-1 label.sk-toggleable__label-arrow:hover:before {color: black;}#sk-container-id-1 div.sk-estimator:hover label.sk-toggleable__label-arrow:before {color: black;}#sk-container-id-1 div.sk-toggleable__content {max-height: 0;max-width: 0;overflow: hidden;text-align: left;background-color: #f0f8ff;}#sk-container-id-1 div.sk-toggleable__content pre {margin: 0.2em;color: black;border-radius: 0.25em;background-color: #f0f8ff;}#sk-container-id-1 input.sk-toggleable__control:checked~div.sk-toggleable__content {max-height: 200px;max-width: 100%;overflow: auto;}#sk-container-id-1 input.sk-toggleable__control:checked~label.sk-toggleable__label-arrow:before {content: \"▾\";}#sk-container-id-1 div.sk-estimator input.sk-toggleable__control:checked~label.sk-toggleable__label {background-color: #d4ebff;}#sk-container-id-1 div.sk-label input.sk-toggleable__control:checked~label.sk-toggleable__label {background-color: #d4ebff;}#sk-container-id-1 input.sk-hidden--visually {border: 0;clip: rect(1px 1px 1px 1px);clip: rect(1px, 1px, 1px, 1px);height: 1px;margin: -1px;overflow: hidden;padding: 0;position: absolute;width: 1px;}#sk-container-id-1 div.sk-estimator {font-family: monospace;background-color: #f0f8ff;border: 1px dotted black;border-radius: 0.25em;box-sizing: border-box;margin-bottom: 0.5em;}#sk-container-id-1 div.sk-estimator:hover {background-color: #d4ebff;}#sk-container-id-1 div.sk-parallel-item::after {content: \"\";width: 100%;border-bottom: 1px solid gray;flex-grow: 1;}#sk-container-id-1 div.sk-label:hover label.sk-toggleable__label {background-color: #d4ebff;}#sk-container-id-1 div.sk-serial::before {content: \"\";position: absolute;border-left: 1px solid gray;box-sizing: border-box;top: 0;bottom: 0;left: 50%;z-index: 0;}#sk-container-id-1 div.sk-serial {display: flex;flex-direction: column;align-items: center;background-color: white;padding-right: 0.2em;padding-left: 0.2em;position: relative;}#sk-container-id-1 div.sk-item {position: relative;z-index: 1;}#sk-container-id-1 div.sk-parallel {display: flex;align-items: stretch;justify-content: center;background-color: white;position: relative;}#sk-container-id-1 div.sk-item::before, #sk-container-id-1 div.sk-parallel-item::before {content: \"\";position: absolute;border-left: 1px solid gray;box-sizing: border-box;top: 0;bottom: 0;left: 50%;z-index: -1;}#sk-container-id-1 div.sk-parallel-item {display: flex;flex-direction: column;z-index: 1;position: relative;background-color: white;}#sk-container-id-1 div.sk-parallel-item:first-child::after {align-self: flex-end;width: 50%;}#sk-container-id-1 div.sk-parallel-item:last-child::after {align-self: flex-start;width: 50%;}#sk-container-id-1 div.sk-parallel-item:only-child::after {width: 0;}#sk-container-id-1 div.sk-dashed-wrapped {border: 1px dashed gray;margin: 0 0.4em 0.5em 0.4em;box-sizing: border-box;padding-bottom: 0.4em;background-color: white;}#sk-container-id-1 div.sk-label label {font-family: monospace;font-weight: bold;display: inline-block;line-height: 1.2em;}#sk-container-id-1 div.sk-label-container {text-align: center;}#sk-container-id-1 div.sk-container {/* jupyter's `normalize.less` sets `[hidden] { display: none; }` but bootstrap.min.css set `[hidden] { display: none !important; }` so we also need the `!important` here to be able to override the default hidden behavior on the sphinx rendered scikit-learn.org. See: https://github.com/scikit-learn/scikit-learn/issues/21755 */display: inline-block !important;position: relative;}#sk-container-id-1 div.sk-text-repr-fallback {display: none;}</style><div id=\"sk-container-id-1\" class=\"sk-top-container\"><div class=\"sk-text-repr-fallback\"><pre>RandomizedSearchCV(cv=3, estimator=RandomForestClassifier(),\n",
       "                   param_distributions={&#x27;max_depth&#x27;: [None, 5, 10, 15],\n",
       "                                        &#x27;max_features&#x27;: [&#x27;auto&#x27;, &#x27;sqrt&#x27;,\n",
       "                                                         &#x27;log2&#x27;],\n",
       "                                        &#x27;min_samples_leaf&#x27;: [1, 2, 4],\n",
       "                                        &#x27;min_samples_split&#x27;: [2, 5, 10],\n",
       "                                        &#x27;n_estimators&#x27;: &lt;scipy.stats._distn_infrastructure.rv_discrete_frozen object at 0x7d0dff7c9f30&gt;},\n",
       "                   scoring=&#x27;accuracy&#x27;)</pre><b>In a Jupyter environment, please rerun this cell to show the HTML representation or trust the notebook. <br />On GitHub, the HTML representation is unable to render, please try loading this page with nbviewer.org.</b></div><div class=\"sk-container\" hidden><div class=\"sk-item sk-dashed-wrapped\"><div class=\"sk-label-container\"><div class=\"sk-label sk-toggleable\"><input class=\"sk-toggleable__control sk-hidden--visually\" id=\"sk-estimator-id-1\" type=\"checkbox\" ><label for=\"sk-estimator-id-1\" class=\"sk-toggleable__label sk-toggleable__label-arrow\">RandomizedSearchCV</label><div class=\"sk-toggleable__content\"><pre>RandomizedSearchCV(cv=3, estimator=RandomForestClassifier(),\n",
       "                   param_distributions={&#x27;max_depth&#x27;: [None, 5, 10, 15],\n",
       "                                        &#x27;max_features&#x27;: [&#x27;auto&#x27;, &#x27;sqrt&#x27;,\n",
       "                                                         &#x27;log2&#x27;],\n",
       "                                        &#x27;min_samples_leaf&#x27;: [1, 2, 4],\n",
       "                                        &#x27;min_samples_split&#x27;: [2, 5, 10],\n",
       "                                        &#x27;n_estimators&#x27;: &lt;scipy.stats._distn_infrastructure.rv_discrete_frozen object at 0x7d0dff7c9f30&gt;},\n",
       "                   scoring=&#x27;accuracy&#x27;)</pre></div></div></div><div class=\"sk-parallel\"><div class=\"sk-parallel-item\"><div class=\"sk-item\"><div class=\"sk-label-container\"><div class=\"sk-label sk-toggleable\"><input class=\"sk-toggleable__control sk-hidden--visually\" id=\"sk-estimator-id-2\" type=\"checkbox\" ><label for=\"sk-estimator-id-2\" class=\"sk-toggleable__label sk-toggleable__label-arrow\">estimator: RandomForestClassifier</label><div class=\"sk-toggleable__content\"><pre>RandomForestClassifier()</pre></div></div></div><div class=\"sk-serial\"><div class=\"sk-item\"><div class=\"sk-estimator sk-toggleable\"><input class=\"sk-toggleable__control sk-hidden--visually\" id=\"sk-estimator-id-3\" type=\"checkbox\" ><label for=\"sk-estimator-id-3\" class=\"sk-toggleable__label sk-toggleable__label-arrow\">RandomForestClassifier</label><div class=\"sk-toggleable__content\"><pre>RandomForestClassifier()</pre></div></div></div></div></div></div></div></div></div></div>"
      ],
      "text/plain": [
       "RandomizedSearchCV(cv=3, estimator=RandomForestClassifier(),\n",
       "                   param_distributions={'max_depth': [None, 5, 10, 15],\n",
       "                                        'max_features': ['auto', 'sqrt',\n",
       "                                                         'log2'],\n",
       "                                        'min_samples_leaf': [1, 2, 4],\n",
       "                                        'min_samples_split': [2, 5, 10],\n",
       "                                        'n_estimators': <scipy.stats._distn_infrastructure.rv_discrete_frozen object at 0x7d0dff7c9f30>},\n",
       "                   scoring='accuracy')"
      ]
     },
     "execution_count": 32,
     "metadata": {},
     "output_type": "execute_result"
    }
   ],
   "source": [
    "from sklearn.model_selection import RandomizedSearchCV\n",
    "from scipy.stats import randint\n",
    "\n",
    "param_dist = {\n",
    "    'n_estimators': randint(10, 20),\n",
    "    'max_depth': [None] + list(range(5, 20, 5)),\n",
    "    'min_samples_split': [2, 5, 10],\n",
    "    'min_samples_leaf': [1, 2, 4],\n",
    "    'max_features': ['auto', 'sqrt', 'log2']\n",
    "}\n",
    "\n",
    "model = RandomForestClassifier()\n",
    "\n",
    "search = RandomizedSearchCV(estimator=model, param_distributions=param_dist, scoring='accuracy', cv=3, n_iter=10)\n",
    "search.fit(X, y)"
   ]
  },
  {
   "cell_type": "code",
   "execution_count": 33,
   "id": "6e6ae115",
   "metadata": {
    "execution": {
     "iopub.execute_input": "2023-06-22T13:01:55.280833Z",
     "iopub.status.busy": "2023-06-22T13:01:55.280298Z",
     "iopub.status.idle": "2023-06-22T13:01:55.294032Z",
     "shell.execute_reply": "2023-06-22T13:01:55.292318Z"
    },
    "papermill": {
     "duration": 0.072031,
     "end_time": "2023-06-22T13:01:55.306425",
     "exception": false,
     "start_time": "2023-06-22T13:01:55.234394",
     "status": "completed"
    },
    "tags": []
   },
   "outputs": [
    {
     "data": {
      "text/plain": [
       "{'max_depth': None,\n",
       " 'max_features': 'sqrt',\n",
       " 'min_samples_leaf': 4,\n",
       " 'min_samples_split': 2,\n",
       " 'n_estimators': 15}"
      ]
     },
     "execution_count": 33,
     "metadata": {},
     "output_type": "execute_result"
    }
   ],
   "source": [
    "# Retrieving the best hyperparameters\n",
    "best_params = search.best_params_\n",
    "best_params"
   ]
  },
  {
   "cell_type": "code",
   "execution_count": 34,
   "id": "7b86c081",
   "metadata": {
    "execution": {
     "iopub.execute_input": "2023-06-22T13:01:55.407653Z",
     "iopub.status.busy": "2023-06-22T13:01:55.407227Z",
     "iopub.status.idle": "2023-06-22T13:02:00.675361Z",
     "shell.execute_reply": "2023-06-22T13:02:00.672875Z"
    },
    "papermill": {
     "duration": 5.322944,
     "end_time": "2023-06-22T13:02:00.677808",
     "exception": false,
     "start_time": "2023-06-22T13:01:55.354864",
     "status": "completed"
    },
    "tags": []
   },
   "outputs": [
    {
     "name": "stdout",
     "output_type": "stream",
     "text": [
      "Test Accuracy :  0.8985714285714286\n",
      "Train Accuracy :  0.9083560090702948\n"
     ]
    }
   ],
   "source": [
    "best_model = search.best_estimator_\n",
    "get_accuracy(X, y, best_model)"
   ]
  },
  {
   "attachments": {},
   "cell_type": "markdown",
   "id": "a120b0f6",
   "metadata": {
    "papermill": {
     "duration": 0.027907,
     "end_time": "2023-06-22T13:02:00.735083",
     "exception": false,
     "start_time": "2023-06-22T13:02:00.707176",
     "status": "completed"
    },
    "tags": []
   },
   "source": [
    "Hence, we tuned our model so that it performs the best with the above **hyperparameters.**\n",
    "\n",
    "#### BEST TEST Accuracy of 89.85% ~ 90% and,\n",
    "#### BEST TRAIN Acccuracy of 90.83% ~ 91%"
   ]
  },
  {
   "attachments": {},
   "cell_type": "markdown",
   "id": "08a73e89",
   "metadata": {
    "papermill": {
     "duration": 0.027253,
     "end_time": "2023-06-22T13:02:00.789560",
     "exception": false,
     "start_time": "2023-06-22T13:02:00.762307",
     "status": "completed"
    },
    "tags": []
   },
   "source": [
    "## Dumping our best Model"
   ]
  },
  {
   "cell_type": "code",
   "execution_count": 35,
   "id": "926988df",
   "metadata": {
    "execution": {
     "iopub.execute_input": "2023-06-22T13:02:00.848584Z",
     "iopub.status.busy": "2023-06-22T13:02:00.847633Z",
     "iopub.status.idle": "2023-06-22T13:02:00.864710Z",
     "shell.execute_reply": "2023-06-22T13:02:00.863780Z"
    },
    "papermill": {
     "duration": 0.048944,
     "end_time": "2023-06-22T13:02:00.866901",
     "exception": false,
     "start_time": "2023-06-22T13:02:00.817957",
     "status": "completed"
    },
    "tags": []
   },
   "outputs": [],
   "source": [
    "import pickle\n",
    "\n",
    "pickle.dump(best_model, open('loan_pred_model.pkl', 'wb'))"
   ]
  },
  {
   "attachments": {},
   "cell_type": "markdown",
   "id": "7744e0ab",
   "metadata": {
    "papermill": {
     "duration": 0.027488,
     "end_time": "2023-06-22T13:02:00.922376",
     "exception": false,
     "start_time": "2023-06-22T13:02:00.894888",
     "status": "completed"
    },
    "tags": []
   },
   "source": [
    "# Outcome Summary:\n",
    "\n",
    "**Improved Loan Prediction Accuracy:** The project expects to achieve an enhanced level of loan prediction accuracy compared to previous models or baseline approaches. By leveraging the power of the RandomForestClassifier algorithm and fine-tuning the hyperparameters through Random Search, the aim is to develop a robust model that can effectively predict loan outcomes with high precision.\n",
    "\n",
    "**Identification of Optimal Hyperparameters:** The grid search process helped us identify the optimal combination of hyperparameters, such as the number of estimators, maximum depth, and maximum features, for the RandomForestClassifier. The expected outcome is to determine the best configuration that maximizes the model's predictive performance.\n",
    "\n",
    "**Enhanced Risk Management:** The accurate loan prediction model can assist lending institutions in improving their risk management practices. By identifying potential defaulters or high-risk applicants, financial institutions can make more informed decisions regarding loan approvals, interest rates, and credit limits. This expected outcome contributes to minimizing financial losses and maintaining a healthy loan portfolio.\n",
    "\n",
    "**Insights into Feature Importance:** The RandomForestClassifier algorithm provides information about feature importance, allowing the identification of key factors that significantly influence loan outcomes. By analyzing the feature importance rankings, the project expects to gain valuable insights into the critical variables contributing to loan repayment and default probabilities. This information can aid in developing targeted strategies for risk assessment and mitigation.\n",
    "\n",
    "**Framework for Model Selection**: The project aims to establish a framework for selecting the most suitable ML model for loan prediction. By employing Random Search Cross Validation and evaluating the performance of different hyperparameter combinations, the expected outcome is to provide guidance on the optimal configuration for the RandomForestClassifier. This framework can serve as a basis for future model selection processes in loan prediction tasks."
   ]
  }
 ],
 "metadata": {
  "kernelspec": {
   "display_name": "Python 3",
   "language": "python",
   "name": "python3"
  },
  "language_info": {
   "codemirror_mode": {
    "name": "ipython",
    "version": 3
   },
   "file_extension": ".py",
   "mimetype": "text/x-python",
   "name": "python",
   "nbconvert_exporter": "python",
   "pygments_lexer": "ipython3",
   "version": "3.10.10"
  },
  "papermill": {
   "default_parameters": {},
   "duration": 226.963139,
   "end_time": "2023-06-22T13:02:01.871684",
   "environment_variables": {},
   "exception": null,
   "input_path": "__notebook__.ipynb",
   "output_path": "__notebook__.ipynb",
   "parameters": {},
   "start_time": "2023-06-22T12:58:14.908545",
   "version": "2.4.0"
  }
 },
 "nbformat": 4,
 "nbformat_minor": 5
}
